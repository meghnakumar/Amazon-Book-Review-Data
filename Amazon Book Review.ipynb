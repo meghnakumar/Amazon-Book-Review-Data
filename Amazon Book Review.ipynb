{
  "cells": [
    {
      "cell_type": "markdown",
      "metadata": {
        "id": "TABv2RZZlyHZ"
      },
      "source": [
        "<h1><center>CSCI - 4146 & 6409 - The Process of Data Science - Summer 2022</h1></center>\n",
        "<h1><center>Assignment 3</h1></center>\n",
        "\n",
        "<b>Meghna Kumar</b>  \n",
        "B00892970 \n",
        "\n",
        "<b>Vatsal Yadav</b>  \n",
        "B00893030  "
      ]
    },
    {
      "cell_type": "code",
      "execution_count": null,
      "metadata": {
        "id": "6AzPrtQtlj2W"
      },
      "outputs": [],
      "source": [
        "import pandas as pd\n",
        "import numpy as np\n",
        "\n",
        "#to ignore waenings\n",
        "import warnings\n",
        "warnings.simplefilter(action='ignore', category=FutureWarning)\n",
        "warnings.simplefilter(action='ignore', category=UserWarning)\n",
        "\n",
        "#to plot graphs and maps\n",
        "from matplotlib import pyplot as plt\n",
        "import seaborn as sns\n",
        "\n",
        "from sklearn.utils import shuffle\n",
        "from sklearn.model_selection import train_test_split\n",
        "from sklearn import linear_model\n",
        "from sklearn.model_selection import learning_curve\n",
        "\n",
        "# Random Forest Algorithm\n",
        "from sklearn.model_selection import RandomizedSearchCV\n",
        "from sklearn.tree import DecisionTreeRegressor\n",
        "\n",
        "from mlxtend.evaluate import paired_ttest_resampled\n",
        "\n",
        "# Evaluation Metrics\n",
        "from sklearn.metrics import classification_report,confusion_matrix"
      ]
    },
    {
      "cell_type": "markdown",
      "metadata": {
        "id": "M0fvF6M2Pz4z"
      },
      "source": [
        "###1.  Data understanding"
      ]
    },
    {
      "cell_type": "markdown",
      "source": [
        "Reading Amazon Book Review 1 Million Sample <a href='https://www.kaggle.com/datasets/parvezmrobin/amazon-book-review-1m-sample'>[1]</a> data "
      ],
      "metadata": {
        "id": "09mrYm7Pv6VZ"
      }
    },
    {
      "cell_type": "code",
      "execution_count": null,
      "metadata": {
        "colab": {
          "base_uri": "https://localhost:8080/"
        },
        "id": "zTuOkPYumZzQ",
        "outputId": "d2a1425f-b848-4b20-ee08-3a56ed8aabec"
      },
      "outputs": [
        {
          "name": "stdout",
          "output_type": "stream",
          "text": [
            "   overall vote  verified   reviewTime      reviewerID        asin  \\\n",
            "0        3    2     False  05 18, 2002   AJ8AQG2X9JJ2Y  0001712799   \n",
            "1        5  NaN      True  12 11, 2014  A12Q7B7NT716RV  0001712799   \n",
            "2        4    3     False   01 6, 2006  A1DK5AZMXS1QA3  0002006448   \n",
            "3        4  NaN     False   12 8, 2014  A1JMSX54DO3LOP  0002005263   \n",
            "4        2    2      True   03 3, 2014  A2IP27AZB3D1SM  0002005263   \n",
            "\n",
            "                                      style     reviewerName  \\\n",
            "0  {'Format:': ' School & Library Binding'}   Donald Gillies   \n",
            "1                 {'Format:': ' Hardcover'}  True Value Girl   \n",
            "2                 {'Format:': ' Hardcover'}       Newton Ooi   \n",
            "3            {'Format:': ' Kindle Edition'}        Bookzilla   \n",
            "4            {'Format:': ' Kindle Edition'}   J. A. Drummond   \n",
            "\n",
            "                                          reviewText  \\\n",
            "0  Dr. Seuss has some really brilliant books.  Th...   \n",
            "1                                            Love it   \n",
            "2  Hand-woven carpets are one of the few products...   \n",
            "3  Compelling, twisting mystery involving several...   \n",
            "4  I have read many of the Hillerman books and en...   \n",
            "\n",
            "                          summary  unixReviewTime image  \n",
            "0  A below-average Dr. Seuss Book      1021680000   NaN  \n",
            "1                      Five Stars      1418256000   NaN  \n",
            "2              Tourism as history      1136505600   NaN  \n",
            "3    Compelling, twisting mystery      1417996800   NaN  \n",
            "4            Tony missed the mark      1393804800   NaN  \n"
          ]
        }
      ],
      "source": [
        "df = pd.read_json('./sample.jsonl', lines=True)\n",
        "print(df.head(5))\n",
        "df = df.convert_dtypes()"
      ]
    },
    {
      "cell_type": "code",
      "execution_count": null,
      "metadata": {
        "colab": {
          "base_uri": "https://localhost:8080/"
        },
        "id": "HBacU32s1zhm",
        "outputId": "c96dc16f-90e6-48f7-a110-e8a4844fcdec"
      },
      "outputs": [
        {
          "data": {
            "text/plain": [
              "<bound method DataFrame.info of         overall  vote  verified   reviewTime      reviewerID        asin  \\\n",
              "0             3     2     False  05 18, 2002   AJ8AQG2X9JJ2Y  0001712799   \n",
              "1             5  <NA>      True  12 11, 2014  A12Q7B7NT716RV  0001712799   \n",
              "2             4     3     False   01 6, 2006  A1DK5AZMXS1QA3  0002006448   \n",
              "3             4  <NA>     False   12 8, 2014  A1JMSX54DO3LOP  0002005263   \n",
              "4             2     2      True   03 3, 2014  A2IP27AZB3D1SM  0002005263   \n",
              "...         ...   ...       ...          ...             ...         ...   \n",
              "999995        3  <NA>      True   12 1, 2017  A1PLIAXAWGGEZO  B01HH2OZVS   \n",
              "999996        3  <NA>     False  12 22, 2016  A1Q3MLS48AUBKO  B01HHC2MD6   \n",
              "999997        5  <NA>     False   07 2, 2016  A34MRZFAZPPESL  B01HHC2MD6   \n",
              "999998        5  <NA>      True  01 26, 2017    ARFHS6IU8WI0  B01HIIHU7W   \n",
              "999999        5  <NA>      True   07 4, 2016  A22FAHV2R6BUVR  B01HJBPTUI   \n",
              "\n",
              "                                           style  \\\n",
              "0       {'Format:': ' School & Library Binding'}   \n",
              "1                      {'Format:': ' Hardcover'}   \n",
              "2                      {'Format:': ' Hardcover'}   \n",
              "3                 {'Format:': ' Kindle Edition'}   \n",
              "4                 {'Format:': ' Kindle Edition'}   \n",
              "...                                          ...   \n",
              "999995            {'Format:': ' Kindle Edition'}   \n",
              "999996            {'Format:': ' Kindle Edition'}   \n",
              "999997            {'Format:': ' Kindle Edition'}   \n",
              "999998            {'Format:': ' Kindle Edition'}   \n",
              "999999            {'Format:': ' Kindle Edition'}   \n",
              "\n",
              "                        reviewerName  \\\n",
              "0                     Donald Gillies   \n",
              "1                    True Value Girl   \n",
              "2                         Newton Ooi   \n",
              "3                          Bookzilla   \n",
              "4                     J. A. Drummond   \n",
              "...                              ...   \n",
              "999995                   Linda  Cope   \n",
              "999996                     weaselbit   \n",
              "999997                      skygypsy   \n",
              "999998                        DonnaL   \n",
              "999999  Amy&#039;s Bookshelf Reviews   \n",
              "\n",
              "                                               reviewText  \\\n",
              "0       Dr. Seuss has some really brilliant books.  Th...   \n",
              "1                                                 Love it   \n",
              "2       Hand-woven carpets are one of the few products...   \n",
              "3       Compelling, twisting mystery involving several...   \n",
              "4       I have read many of the Hillerman books and en...   \n",
              "...                                                   ...   \n",
              "999995  What I liked most was the personal stories of ...   \n",
              "999996  The story is alright. The writing style is a b...   \n",
              "999997  l really loved this little book.  The author's...   \n",
              "999998  I have read everything Keith Blackmore has wri...   \n",
              "999999  Another amazing book by Ernst. Sequels are not...   \n",
              "\n",
              "                                                  summary  unixReviewTime  \\\n",
              "0                          A below-average Dr. Seuss Book      1021680000   \n",
              "1                                              Five Stars      1418256000   \n",
              "2                                      Tourism as history      1136505600   \n",
              "3                            Compelling, twisting mystery      1417996800   \n",
              "4                                    Tony missed the mark      1393804800   \n",
              "...                                                   ...             ...   \n",
              "999995  What I liked most was the personal stories of ...      1512086400   \n",
              "999996   The story is alright. The writing style is a ...      1482364800   \n",
              "999997                    A Lovely Little Feel-Good Story      1467417600   \n",
              "999998                      Love Keith Blackmore's books!      1485388800   \n",
              "999999                                          Masterful      1467590400   \n",
              "\n",
              "       image  \n",
              "0        NaN  \n",
              "1        NaN  \n",
              "2        NaN  \n",
              "3        NaN  \n",
              "4        NaN  \n",
              "...      ...  \n",
              "999995   NaN  \n",
              "999996   NaN  \n",
              "999997   NaN  \n",
              "999998   NaN  \n",
              "999999   NaN  \n",
              "\n",
              "[1000000 rows x 12 columns]>"
            ]
          },
          "execution_count": 95,
          "metadata": {},
          "output_type": "execute_result"
        }
      ],
      "source": [
        "df.info"
      ]
    },
    {
      "cell_type": "markdown",
      "metadata": {
        "id": "XhircGIOfG7K"
      },
      "source": [
        "Calculating the length, word count and isalnum for reviewText, summary, and reviewerName for better understanding of data"
      ]
    },
    {
      "cell_type": "code",
      "execution_count": null,
      "metadata": {
        "id": "jCXPVgAehafR"
      },
      "outputs": [],
      "source": [
        "df['reviewTextLength']  = df['reviewText'].str.len()"
      ]
    },
    {
      "cell_type": "code",
      "execution_count": null,
      "metadata": {
        "id": "lVuvwHTBw2DN"
      },
      "outputs": [],
      "source": [
        "df['reviewerNameLength']  = df['reviewerName'].str.len()\n",
        "df['summaryLength']  = df['summary'].str.len()"
      ]
    },
    {
      "cell_type": "code",
      "execution_count": null,
      "metadata": {
        "id": "SEt4obQ7125I"
      },
      "outputs": [],
      "source": [
        "summaryWord = df['summary'].map(lambda each: len(str(each).split()))"
      ]
    },
    {
      "cell_type": "code",
      "execution_count": null,
      "metadata": {
        "id": "vdQfqGj6P4O8"
      },
      "outputs": [],
      "source": [
        "df['summaryWord'] = pd.DataFrame(summaryWord)"
      ]
    },
    {
      "cell_type": "code",
      "execution_count": null,
      "metadata": {
        "id": "ASxY0DOtQJEC"
      },
      "outputs": [],
      "source": [
        "reviewTextWord = df['reviewText'].map(lambda each: len(str(each).split()))\n",
        "df['reviewTextWord'] = pd.DataFrame(reviewTextWord)"
      ]
    },
    {
      "cell_type": "code",
      "execution_count": null,
      "metadata": {
        "id": "royBjspJQW-p"
      },
      "outputs": [],
      "source": [
        "reviewerNameWord = df['reviewerName'].map(lambda each: len(str(each).split()))\n",
        "df['reviewerNameWord'] = pd.DataFrame(reviewerNameWord)"
      ]
    },
    {
      "cell_type": "code",
      "execution_count": null,
      "metadata": {
        "id": "b6LaJAmrCvjK"
      },
      "outputs": [],
      "source": [
        "reviewerNameIsAlNum = df['reviewerName'].map(lambda each: (str(each).isalnum()))\n",
        "df['reviewerNameIsAlNum'] = pd.DataFrame(reviewerNameIsAlNum)"
      ]
    },
    {
      "cell_type": "code",
      "execution_count": null,
      "metadata": {
        "id": "1rysMdAS0jaw"
      },
      "outputs": [],
      "source": [
        "reviewTextIsAlNum = df['reviewText'].map(lambda each: (str(each).isalnum()))\n",
        "df['reviewTextIsAlNum'] = pd.DataFrame(reviewTextIsAlNum)"
      ]
    },
    {
      "cell_type": "code",
      "execution_count": null,
      "metadata": {
        "id": "mDSDOC440lGf"
      },
      "outputs": [],
      "source": [
        "summaryIsAlNum = df['summary'].map(lambda each: (str(each).isalnum()))\n",
        "df['summaryIsAlNum'] = pd.DataFrame(summaryIsAlNum)"
      ]
    },
    {
      "cell_type": "markdown",
      "metadata": {
        "id": "Gahro7DhfG7R"
      },
      "source": [
        "Converting the the categorical features to continuous feature"
      ]
    },
    {
      "cell_type": "code",
      "execution_count": null,
      "metadata": {
        "id": "YuDhlRCegHWK"
      },
      "outputs": [],
      "source": [
        "df = pd.get_dummies(df, columns=['reviewerNameIsAlNum','reviewTextIsAlNum','summaryIsAlNum','verified'])"
      ]
    },
    {
      "cell_type": "markdown",
      "source": [
        "**1. Build the data quality report.**"
      ],
      "metadata": {
        "id": "GIP3GCuAvC4w"
      }
    },
    {
      "cell_type": "code",
      "execution_count": null,
      "metadata": {
        "id": "cB8hTpUWxa_j"
      },
      "outputs": [],
      "source": [
        "#Code Reference: This code has been taken from CSCI 6709 Process of Data Science Tutorial 2 [2]\n",
        "def build_continuous_features_report(data_df):\n",
        "    \n",
        "    \"\"\"Build tabular report for continuous features\"\"\"\n",
        "\n",
        "    stats = {\n",
        "        \"Count\": len,\n",
        "        \"Miss %\": lambda df: df.isna().sum() / len(df) * 100,\n",
        "        \"Card.\": lambda df: df.nunique(),\n",
        "        \"Min\": lambda df: df.min(),\n",
        "        \"1st Qrt.\": lambda df: df.quantile(0.25),\n",
        "        \"Mean\": lambda df: df.mean(),\n",
        "        \"Median\": lambda df: df.median(),\n",
        "        \"3rd Qrt\": lambda df: df.quantile(0.75),\n",
        "        \"Max\": lambda df: df.max(),\n",
        "        \"Std. Dev.\": lambda df: df.std(),\n",
        "    }\n",
        "\n",
        "    contin_feat_names = data_df.select_dtypes(\"number\").columns\n",
        "    continuous_data_df = data_df[contin_feat_names]\n",
        "\n",
        "    report_df = pd.DataFrame(index=contin_feat_names, columns=stats.keys())\n",
        "\n",
        "    for stat_name, fn in stats.items():\n",
        "        # NOTE: ignore warnings for empty features\n",
        "        with warnings.catch_warnings():\n",
        "            warnings.simplefilter(\"ignore\", category=RuntimeWarning)\n",
        "            report_df[stat_name] = fn(continuous_data_df)\n",
        "\n",
        "    return report_df"
      ]
    },
    {
      "cell_type": "code",
      "execution_count": null,
      "metadata": {
        "colab": {
          "base_uri": "https://localhost:8080/"
        },
        "id": "sjy83lIWxe-J",
        "outputId": "67f00257-6ce6-447a-f115-cf631506f7a5"
      },
      "outputs": [
        {
          "data": {
            "text/html": [
              "<div>\n",
              "<style scoped>\n",
              "    .dataframe tbody tr th:only-of-type {\n",
              "        vertical-align: middle;\n",
              "    }\n",
              "\n",
              "    .dataframe tbody tr th {\n",
              "        vertical-align: top;\n",
              "    }\n",
              "\n",
              "    .dataframe thead th {\n",
              "        text-align: right;\n",
              "    }\n",
              "</style>\n",
              "<table border=\"1\" class=\"dataframe\">\n",
              "  <thead>\n",
              "    <tr style=\"text-align: right;\">\n",
              "      <th></th>\n",
              "      <th>Count</th>\n",
              "      <th>Miss %</th>\n",
              "      <th>Card.</th>\n",
              "      <th>Min</th>\n",
              "      <th>1st Qrt.</th>\n",
              "      <th>Mean</th>\n",
              "      <th>Median</th>\n",
              "      <th>3rd Qrt</th>\n",
              "      <th>Max</th>\n",
              "      <th>Std. Dev.</th>\n",
              "    </tr>\n",
              "  </thead>\n",
              "  <tbody>\n",
              "    <tr>\n",
              "      <th>overall</th>\n",
              "      <td>1000000</td>\n",
              "      <td>0.0000</td>\n",
              "      <td>5</td>\n",
              "      <td>1.0</td>\n",
              "      <td>4</td>\n",
              "      <td>4.373181e+00</td>\n",
              "      <td>5.000000e+00</td>\n",
              "      <td>5</td>\n",
              "      <td>5.000000e+00</td>\n",
              "      <td>9.996799e-01</td>\n",
              "    </tr>\n",
              "    <tr>\n",
              "      <th>unixReviewTime</th>\n",
              "      <td>1000000</td>\n",
              "      <td>0.0000</td>\n",
              "      <td>7514</td>\n",
              "      <td>849657600.0</td>\n",
              "      <td>1.37627e+09</td>\n",
              "      <td>1.406255e+09</td>\n",
              "      <td>1.425686e+09</td>\n",
              "      <td>1.4726e+09</td>\n",
              "      <td>1.537920e+09</td>\n",
              "      <td>1.010109e+08</td>\n",
              "    </tr>\n",
              "    <tr>\n",
              "      <th>reviewTextLength</th>\n",
              "      <td>1000000</td>\n",
              "      <td>0.0124</td>\n",
              "      <td>7916</td>\n",
              "      <td>1.0</td>\n",
              "      <td>114</td>\n",
              "      <td>5.411127e+02</td>\n",
              "      <td>2.270000e+02</td>\n",
              "      <td>599</td>\n",
              "      <td>3.175900e+04</td>\n",
              "      <td>8.680130e+02</td>\n",
              "    </tr>\n",
              "    <tr>\n",
              "      <th>reviewerNameLength</th>\n",
              "      <td>1000000</td>\n",
              "      <td>0.0034</td>\n",
              "      <td>125</td>\n",
              "      <td>1.0</td>\n",
              "      <td>7</td>\n",
              "      <td>1.112015e+01</td>\n",
              "      <td>1.100000e+01</td>\n",
              "      <td>15</td>\n",
              "      <td>3.260000e+02</td>\n",
              "      <td>5.576594e+00</td>\n",
              "    </tr>\n",
              "    <tr>\n",
              "      <th>summaryLength</th>\n",
              "      <td>1000000</td>\n",
              "      <td>0.0307</td>\n",
              "      <td>261</td>\n",
              "      <td>1.0</td>\n",
              "      <td>10</td>\n",
              "      <td>2.583527e+01</td>\n",
              "      <td>1.900000e+01</td>\n",
              "      <td>34</td>\n",
              "      <td>5.570000e+02</td>\n",
              "      <td>1.996028e+01</td>\n",
              "    </tr>\n",
              "    <tr>\n",
              "      <th>summaryWord</th>\n",
              "      <td>1000000</td>\n",
              "      <td>0.0000</td>\n",
              "      <td>70</td>\n",
              "      <td>0.0</td>\n",
              "      <td>2</td>\n",
              "      <td>4.613507e+00</td>\n",
              "      <td>3.000000e+00</td>\n",
              "      <td>6</td>\n",
              "      <td>1.120000e+02</td>\n",
              "      <td>3.679922e+00</td>\n",
              "    </tr>\n",
              "    <tr>\n",
              "      <th>reviewTextWord</th>\n",
              "      <td>1000000</td>\n",
              "      <td>0.0000</td>\n",
              "      <td>2000</td>\n",
              "      <td>0.0</td>\n",
              "      <td>21</td>\n",
              "      <td>9.648489e+01</td>\n",
              "      <td>4.200000e+01</td>\n",
              "      <td>108</td>\n",
              "      <td>5.359000e+03</td>\n",
              "      <td>1.506114e+02</td>\n",
              "    </tr>\n",
              "    <tr>\n",
              "      <th>reviewerNameWord</th>\n",
              "      <td>1000000</td>\n",
              "      <td>0.0000</td>\n",
              "      <td>26</td>\n",
              "      <td>0.0</td>\n",
              "      <td>1</td>\n",
              "      <td>1.832561e+00</td>\n",
              "      <td>2.000000e+00</td>\n",
              "      <td>2</td>\n",
              "      <td>2.700000e+01</td>\n",
              "      <td>8.510017e-01</td>\n",
              "    </tr>\n",
              "    <tr>\n",
              "      <th>reviewerNameIsAlNum_False</th>\n",
              "      <td>1000000</td>\n",
              "      <td>0.0000</td>\n",
              "      <td>2</td>\n",
              "      <td>0.0</td>\n",
              "      <td>0</td>\n",
              "      <td>6.544260e-01</td>\n",
              "      <td>1.000000e+00</td>\n",
              "      <td>1</td>\n",
              "      <td>1.000000e+00</td>\n",
              "      <td>4.755553e-01</td>\n",
              "    </tr>\n",
              "    <tr>\n",
              "      <th>reviewerNameIsAlNum_True</th>\n",
              "      <td>1000000</td>\n",
              "      <td>0.0000</td>\n",
              "      <td>2</td>\n",
              "      <td>0.0</td>\n",
              "      <td>0</td>\n",
              "      <td>3.455740e-01</td>\n",
              "      <td>0.000000e+00</td>\n",
              "      <td>1</td>\n",
              "      <td>1.000000e+00</td>\n",
              "      <td>4.755553e-01</td>\n",
              "    </tr>\n",
              "    <tr>\n",
              "      <th>reviewTextIsAlNum_False</th>\n",
              "      <td>1000000</td>\n",
              "      <td>0.0000</td>\n",
              "      <td>2</td>\n",
              "      <td>0.0</td>\n",
              "      <td>1</td>\n",
              "      <td>9.881620e-01</td>\n",
              "      <td>1.000000e+00</td>\n",
              "      <td>1</td>\n",
              "      <td>1.000000e+00</td>\n",
              "      <td>1.081567e-01</td>\n",
              "    </tr>\n",
              "    <tr>\n",
              "      <th>reviewTextIsAlNum_True</th>\n",
              "      <td>1000000</td>\n",
              "      <td>0.0000</td>\n",
              "      <td>2</td>\n",
              "      <td>0.0</td>\n",
              "      <td>0</td>\n",
              "      <td>1.183800e-02</td>\n",
              "      <td>0.000000e+00</td>\n",
              "      <td>0</td>\n",
              "      <td>1.000000e+00</td>\n",
              "      <td>1.081567e-01</td>\n",
              "    </tr>\n",
              "    <tr>\n",
              "      <th>summaryIsAlNum_False</th>\n",
              "      <td>1000000</td>\n",
              "      <td>0.0000</td>\n",
              "      <td>2</td>\n",
              "      <td>0.0</td>\n",
              "      <td>1</td>\n",
              "      <td>9.425910e-01</td>\n",
              "      <td>1.000000e+00</td>\n",
              "      <td>1</td>\n",
              "      <td>1.000000e+00</td>\n",
              "      <td>2.326226e-01</td>\n",
              "    </tr>\n",
              "    <tr>\n",
              "      <th>summaryIsAlNum_True</th>\n",
              "      <td>1000000</td>\n",
              "      <td>0.0000</td>\n",
              "      <td>2</td>\n",
              "      <td>0.0</td>\n",
              "      <td>0</td>\n",
              "      <td>5.740900e-02</td>\n",
              "      <td>0.000000e+00</td>\n",
              "      <td>0</td>\n",
              "      <td>1.000000e+00</td>\n",
              "      <td>2.326226e-01</td>\n",
              "    </tr>\n",
              "    <tr>\n",
              "      <th>verified_False</th>\n",
              "      <td>1000000</td>\n",
              "      <td>0.0000</td>\n",
              "      <td>2</td>\n",
              "      <td>0.0</td>\n",
              "      <td>0</td>\n",
              "      <td>3.257630e-01</td>\n",
              "      <td>0.000000e+00</td>\n",
              "      <td>1</td>\n",
              "      <td>1.000000e+00</td>\n",
              "      <td>4.686595e-01</td>\n",
              "    </tr>\n",
              "    <tr>\n",
              "      <th>verified_True</th>\n",
              "      <td>1000000</td>\n",
              "      <td>0.0000</td>\n",
              "      <td>2</td>\n",
              "      <td>0.0</td>\n",
              "      <td>0</td>\n",
              "      <td>6.742370e-01</td>\n",
              "      <td>1.000000e+00</td>\n",
              "      <td>1</td>\n",
              "      <td>1.000000e+00</td>\n",
              "      <td>4.686595e-01</td>\n",
              "    </tr>\n",
              "  </tbody>\n",
              "</table>\n",
              "</div>"
            ],
            "text/plain": [
              "                             Count  Miss %  Card.          Min     1st Qrt.  \\\n",
              "overall                    1000000  0.0000      5          1.0            4   \n",
              "unixReviewTime             1000000  0.0000   7514  849657600.0  1.37627e+09   \n",
              "reviewTextLength           1000000  0.0124   7916          1.0          114   \n",
              "reviewerNameLength         1000000  0.0034    125          1.0            7   \n",
              "summaryLength              1000000  0.0307    261          1.0           10   \n",
              "summaryWord                1000000  0.0000     70          0.0            2   \n",
              "reviewTextWord             1000000  0.0000   2000          0.0           21   \n",
              "reviewerNameWord           1000000  0.0000     26          0.0            1   \n",
              "reviewerNameIsAlNum_False  1000000  0.0000      2          0.0            0   \n",
              "reviewerNameIsAlNum_True   1000000  0.0000      2          0.0            0   \n",
              "reviewTextIsAlNum_False    1000000  0.0000      2          0.0            1   \n",
              "reviewTextIsAlNum_True     1000000  0.0000      2          0.0            0   \n",
              "summaryIsAlNum_False       1000000  0.0000      2          0.0            1   \n",
              "summaryIsAlNum_True        1000000  0.0000      2          0.0            0   \n",
              "verified_False             1000000  0.0000      2          0.0            0   \n",
              "verified_True              1000000  0.0000      2          0.0            0   \n",
              "\n",
              "                                   Mean        Median     3rd Qrt  \\\n",
              "overall                    4.373181e+00  5.000000e+00           5   \n",
              "unixReviewTime             1.406255e+09  1.425686e+09  1.4726e+09   \n",
              "reviewTextLength           5.411127e+02  2.270000e+02         599   \n",
              "reviewerNameLength         1.112015e+01  1.100000e+01          15   \n",
              "summaryLength              2.583527e+01  1.900000e+01          34   \n",
              "summaryWord                4.613507e+00  3.000000e+00           6   \n",
              "reviewTextWord             9.648489e+01  4.200000e+01         108   \n",
              "reviewerNameWord           1.832561e+00  2.000000e+00           2   \n",
              "reviewerNameIsAlNum_False  6.544260e-01  1.000000e+00           1   \n",
              "reviewerNameIsAlNum_True   3.455740e-01  0.000000e+00           1   \n",
              "reviewTextIsAlNum_False    9.881620e-01  1.000000e+00           1   \n",
              "reviewTextIsAlNum_True     1.183800e-02  0.000000e+00           0   \n",
              "summaryIsAlNum_False       9.425910e-01  1.000000e+00           1   \n",
              "summaryIsAlNum_True        5.740900e-02  0.000000e+00           0   \n",
              "verified_False             3.257630e-01  0.000000e+00           1   \n",
              "verified_True              6.742370e-01  1.000000e+00           1   \n",
              "\n",
              "                                    Max     Std. Dev.  \n",
              "overall                    5.000000e+00  9.996799e-01  \n",
              "unixReviewTime             1.537920e+09  1.010109e+08  \n",
              "reviewTextLength           3.175900e+04  8.680130e+02  \n",
              "reviewerNameLength         3.260000e+02  5.576594e+00  \n",
              "summaryLength              5.570000e+02  1.996028e+01  \n",
              "summaryWord                1.120000e+02  3.679922e+00  \n",
              "reviewTextWord             5.359000e+03  1.506114e+02  \n",
              "reviewerNameWord           2.700000e+01  8.510017e-01  \n",
              "reviewerNameIsAlNum_False  1.000000e+00  4.755553e-01  \n",
              "reviewerNameIsAlNum_True   1.000000e+00  4.755553e-01  \n",
              "reviewTextIsAlNum_False    1.000000e+00  1.081567e-01  \n",
              "reviewTextIsAlNum_True     1.000000e+00  1.081567e-01  \n",
              "summaryIsAlNum_False       1.000000e+00  2.326226e-01  \n",
              "summaryIsAlNum_True        1.000000e+00  2.326226e-01  \n",
              "verified_False             1.000000e+00  4.686595e-01  \n",
              "verified_True              1.000000e+00  4.686595e-01  "
            ]
          },
          "execution_count": 107,
          "metadata": {},
          "output_type": "execute_result"
        }
      ],
      "source": [
        "build_continuous_features_report(df)"
      ]
    },
    {
      "cell_type": "markdown",
      "metadata": {
        "id": "Ru-4J0oYfG7T"
      },
      "source": [
        "> Observations\n",
        "\n",
        "* reviewTextLength, reviewerNameLength and summaryLength have a missing percentage of 0.0124, 0.0034 and 0.0307 respectively.\n",
        "* After all the cotegorical converted continuous features, it is overall that has less cardinality.\n",
        "* reviewTextLength has the highest cardinality - 7916"
      ]
    },
    {
      "cell_type": "code",
      "execution_count": null,
      "metadata": {
        "id": "nlD4tUj4xw6d"
      },
      "outputs": [],
      "source": [
        "#Code Reference: This code has been taken from CSCI 6709 Process of Data Science Tutorial 2 [2]\n",
        "def build_categorical_features_report(data_df):\n",
        "\n",
        "    \"\"\"Build tabular report for categorical features\"\"\"\n",
        "\n",
        "    def _mode(df):\n",
        "        return df.apply(lambda ft: ft.mode().to_list()).T\n",
        "\n",
        "    def _mode_freq(df):\n",
        "        return df.apply(lambda ft: ft.value_counts()[ft.mode()].sum())\n",
        "\n",
        "    def _second_mode(df):\n",
        "        return df.apply(lambda ft: ft[~ft.isin(ft.mode())].mode().to_list()).T\n",
        "\n",
        "    def _second_mode_freq(df):\n",
        "        return df.apply(\n",
        "            lambda ft: ft[~ft.isin(ft.mode())]\n",
        "            .value_counts()[ft[~ft.isin(ft.mode())].mode()]\n",
        "            .sum()\n",
        "        )\n",
        "\n",
        "    stats = {\n",
        "        \"Count\": len,\n",
        "        \"Miss %\": lambda df: df.isna().sum() / len(df) * 100,\n",
        "        \"Card.\": lambda df: df.nunique(),\n",
        "        \"Mode\": _mode,\n",
        "        \"Mode Freq\": _mode_freq,\n",
        "        \"Mode %\": lambda df: _mode_freq(df) / len(df) * 100,\n",
        "        \"2nd Mode\": _second_mode,\n",
        "        \"2nd Mode Freq\": _second_mode_freq,\n",
        "        \"2nd Mode %\": lambda df: _second_mode_freq(df) / len(df) * 100,\n",
        "    }\n",
        "\n",
        "    cat_feat_names = data_df.select_dtypes(exclude=\"number\").columns\n",
        "    continuous_data_df = data_df[cat_feat_names]\n",
        "\n",
        "    report_df = pd.DataFrame(index=cat_feat_names, columns=stats.keys())\n",
        "\n",
        "    for stat_name, fn in stats.items():\n",
        "        # NOTE: ignore warnings for empty features\n",
        "        with warnings.catch_warnings():\n",
        "            warnings.simplefilter(\"ignore\", category=RuntimeWarning)\n",
        "            report_df[stat_name] = fn(continuous_data_df)\n",
        "\n",
        "    return report_df"
      ]
    },
    {
      "cell_type": "markdown",
      "metadata": {
        "id": "kDLR1AtzfG7U"
      },
      "source": [
        "Extracting Format from the style column and dropping style then because it is in json format"
      ]
    },
    {
      "cell_type": "code",
      "execution_count": null,
      "metadata": {
        "id": "103UhKpAya6a"
      },
      "outputs": [],
      "source": [
        "df['format'] = df['style'].map(lambda x: x['Format:'] if x is not None and type(x) is not float and 'Format:' in x.keys() else None)"
      ]
    },
    {
      "cell_type": "code",
      "execution_count": null,
      "metadata": {
        "id": "KWfF0R-tfG7V"
      },
      "outputs": [],
      "source": [
        "df = df.drop(['style'], axis=1) "
      ]
    },
    {
      "cell_type": "markdown",
      "metadata": {
        "id": "IDf0paP_fG7V"
      },
      "source": [
        "Dropping image column because it will not serve any purpose later in the dataset."
      ]
    },
    {
      "cell_type": "code",
      "execution_count": null,
      "metadata": {
        "id": "zuMK1Ze72xp8"
      },
      "outputs": [],
      "source": [
        "df = df.drop(['image'], axis=1)"
      ]
    },
    {
      "cell_type": "code",
      "execution_count": null,
      "metadata": {
        "colab": {
          "base_uri": "https://localhost:8080/"
        },
        "id": "4G0rIfPqNiQ6",
        "outputId": "9f70f4d3-29af-4cd8-a422-8e93bbdae5b1"
      },
      "outputs": [
        {
          "data": {
            "text/html": [
              "<div>\n",
              "<style scoped>\n",
              "    .dataframe tbody tr th:only-of-type {\n",
              "        vertical-align: middle;\n",
              "    }\n",
              "\n",
              "    .dataframe tbody tr th {\n",
              "        vertical-align: top;\n",
              "    }\n",
              "\n",
              "    .dataframe thead th {\n",
              "        text-align: right;\n",
              "    }\n",
              "</style>\n",
              "<table border=\"1\" class=\"dataframe\">\n",
              "  <thead>\n",
              "    <tr style=\"text-align: right;\">\n",
              "      <th></th>\n",
              "      <th>Count</th>\n",
              "      <th>Miss %</th>\n",
              "      <th>Card.</th>\n",
              "      <th>Mode</th>\n",
              "      <th>Mode Freq</th>\n",
              "      <th>Mode %</th>\n",
              "      <th>2nd Mode</th>\n",
              "      <th>2nd Mode Freq</th>\n",
              "      <th>2nd Mode %</th>\n",
              "    </tr>\n",
              "  </thead>\n",
              "  <tbody>\n",
              "    <tr>\n",
              "      <th>vote</th>\n",
              "      <td>1000000</td>\n",
              "      <td>80.4511</td>\n",
              "      <td>473</td>\n",
              "      <td>2</td>\n",
              "      <td>61834</td>\n",
              "      <td>6.1834</td>\n",
              "      <td>3</td>\n",
              "      <td>32697</td>\n",
              "      <td>3.2697</td>\n",
              "    </tr>\n",
              "    <tr>\n",
              "      <th>reviewTime</th>\n",
              "      <td>1000000</td>\n",
              "      <td>0.0000</td>\n",
              "      <td>7514</td>\n",
              "      <td>02 20, 2015</td>\n",
              "      <td>1537</td>\n",
              "      <td>0.1537</td>\n",
              "      <td>03 29, 2016</td>\n",
              "      <td>1243</td>\n",
              "      <td>0.1243</td>\n",
              "    </tr>\n",
              "    <tr>\n",
              "      <th>reviewerID</th>\n",
              "      <td>1000000</td>\n",
              "      <td>0.0000</td>\n",
              "      <td>610262</td>\n",
              "      <td>A2F6N60Z96CAJI</td>\n",
              "      <td>317</td>\n",
              "      <td>0.0317</td>\n",
              "      <td>A2OJW07GQRNJUT</td>\n",
              "      <td>240</td>\n",
              "      <td>0.0240</td>\n",
              "    </tr>\n",
              "    <tr>\n",
              "      <th>asin</th>\n",
              "      <td>1000000</td>\n",
              "      <td>0.0000</td>\n",
              "      <td>323635</td>\n",
              "      <td>038568231X</td>\n",
              "      <td>1013</td>\n",
              "      <td>0.1013</td>\n",
              "      <td>0297859382</td>\n",
              "      <td>828</td>\n",
              "      <td>0.0828</td>\n",
              "    </tr>\n",
              "    <tr>\n",
              "      <th>reviewerName</th>\n",
              "      <td>1000000</td>\n",
              "      <td>0.0034</td>\n",
              "      <td>435945</td>\n",
              "      <td>Amazon Customer</td>\n",
              "      <td>46661</td>\n",
              "      <td>4.6661</td>\n",
              "      <td>Kindle Customer</td>\n",
              "      <td>32034</td>\n",
              "      <td>3.2034</td>\n",
              "    </tr>\n",
              "    <tr>\n",
              "      <th>reviewText</th>\n",
              "      <td>1000000</td>\n",
              "      <td>0.0124</td>\n",
              "      <td>952186</td>\n",
              "      <td>Great</td>\n",
              "      <td>1105</td>\n",
              "      <td>0.1105</td>\n",
              "      <td>good</td>\n",
              "      <td>1071</td>\n",
              "      <td>0.1071</td>\n",
              "    </tr>\n",
              "    <tr>\n",
              "      <th>summary</th>\n",
              "      <td>1000000</td>\n",
              "      <td>0.0307</td>\n",
              "      <td>629717</td>\n",
              "      <td>Five Stars</td>\n",
              "      <td>93655</td>\n",
              "      <td>9.3655</td>\n",
              "      <td>Four Stars</td>\n",
              "      <td>23557</td>\n",
              "      <td>2.3557</td>\n",
              "    </tr>\n",
              "    <tr>\n",
              "      <th>format</th>\n",
              "      <td>1000000</td>\n",
              "      <td>1.7879</td>\n",
              "      <td>89</td>\n",
              "      <td>Kindle Edition</td>\n",
              "      <td>561493</td>\n",
              "      <td>56.1493</td>\n",
              "      <td>Paperback</td>\n",
              "      <td>229310</td>\n",
              "      <td>22.9310</td>\n",
              "    </tr>\n",
              "  </tbody>\n",
              "</table>\n",
              "</div>"
            ],
            "text/plain": [
              "                Count   Miss %   Card.             Mode  Mode Freq   Mode %  \\\n",
              "vote          1000000  80.4511     473                2      61834   6.1834   \n",
              "reviewTime    1000000   0.0000    7514      02 20, 2015       1537   0.1537   \n",
              "reviewerID    1000000   0.0000  610262   A2F6N60Z96CAJI        317   0.0317   \n",
              "asin          1000000   0.0000  323635       038568231X       1013   0.1013   \n",
              "reviewerName  1000000   0.0034  435945  Amazon Customer      46661   4.6661   \n",
              "reviewText    1000000   0.0124  952186            Great       1105   0.1105   \n",
              "summary       1000000   0.0307  629717       Five Stars      93655   9.3655   \n",
              "format        1000000   1.7879      89   Kindle Edition     561493  56.1493   \n",
              "\n",
              "                     2nd Mode  2nd Mode Freq  2nd Mode %  \n",
              "vote                        3          32697      3.2697  \n",
              "reviewTime        03 29, 2016           1243      0.1243  \n",
              "reviewerID     A2OJW07GQRNJUT            240      0.0240  \n",
              "asin               0297859382            828      0.0828  \n",
              "reviewerName  Kindle Customer          32034      3.2034  \n",
              "reviewText               good           1071      0.1071  \n",
              "summary            Four Stars          23557      2.3557  \n",
              "format              Paperback         229310     22.9310  "
            ]
          },
          "execution_count": 112,
          "metadata": {},
          "output_type": "execute_result"
        }
      ],
      "source": [
        "build_categorical_features_report(df)"
      ]
    },
    {
      "cell_type": "markdown",
      "metadata": {
        "id": "ywzRXAgkfG7W"
      },
      "source": [
        "> Observation\n",
        "\n",
        "* 'vote' column has highest missing percentage count i.e 80.45\n",
        "* Other columns having some missing percentage are reviewerName, reviewText, summary and format\n",
        "* Mode of reviewerName is 'Amazon Customer' which means most of the users are anonymous and have not entered their actual name\n",
        "* 'Kindle Edition' has the highest number of frequency in format."
      ]
    },
    {
      "cell_type": "markdown",
      "metadata": {
        "id": "244iFxdiFKq9"
      },
      "source": [
        "Feature visualization - Continuous Features"
      ]
    },
    {
      "cell_type": "code",
      "execution_count": null,
      "metadata": {
        "colab": {
          "base_uri": "https://localhost:8080/"
        },
        "id": "WFA_W3DyFKWq",
        "outputId": "5d67cad8-6f8b-48e6-91b0-a0f5145d2f05"
      },
      "outputs": [
        {
          "data": {
            "text/plain": [
              "array([[<matplotlib.axes._subplots.AxesSubplot object at 0x7f29139cbe50>,\n",
              "        <matplotlib.axes._subplots.AxesSubplot object at 0x7f29139deb50>,\n",
              "        <matplotlib.axes._subplots.AxesSubplot object at 0x7f2913a740d0>],\n",
              "       [<matplotlib.axes._subplots.AxesSubplot object at 0x7f29139e00d0>,\n",
              "        <matplotlib.axes._subplots.AxesSubplot object at 0x7f29139e2490>,\n",
              "        <matplotlib.axes._subplots.AxesSubplot object at 0x7f29139a6c50>],\n",
              "       [<matplotlib.axes._subplots.AxesSubplot object at 0x7f29138bccd0>,\n",
              "        <matplotlib.axes._subplots.AxesSubplot object at 0x7f291396a390>,\n",
              "        <matplotlib.axes._subplots.AxesSubplot object at 0x7f2913970bd0>]],\n",
              "      dtype=object)"
            ]
          },
          "execution_count": 113,
          "metadata": {},
          "output_type": "execute_result"
        },
        {
          "data": {
            "image/png": "[encoded data removed]",
            "text/plain": [
              "<Figure size 1152x1152 with 9 Axes>"
            ]
          },
          "metadata": {
            "needs_background": "light"
          },
          "output_type": "display_data"
        }
      ],
      "source": [
        "df.hist(column=(['overall','reviewTextLength','reviewerNameLength','summaryLength','summaryWord','reviewTextWord','reviewerNameWord']),figsize=(16,16))"
      ]
    },
    {
      "cell_type": "markdown",
      "metadata": {
        "id": "0Z49OjrbfG7X"
      },
      "source": [
        "> Observation\n",
        "\n",
        "* All the values of reviewerNameLength are under 50\n",
        "* Maximum count of summaryWord is between 0 and 10\n",
        "* overall score 5 has the highest count\n",
        "* reviewTextLength is between 0 and 4000 for most of the values."
      ]
    },
    {
      "cell_type": "markdown",
      "metadata": {
        "id": "2MPo6-vVF8WA"
      },
      "source": [
        "Feature Visualisation - Categorical Features"
      ]
    },
    {
      "cell_type": "code",
      "execution_count": null,
      "metadata": {
        "id": "0wxmpUG3fG7X",
        "outputId": "3f8b8d08-8df8-4d9f-c403-f2153cfc6dbe"
      },
      "outputs": [
        {
          "data": {
            "image/png": "[encoded data removed]",
            "text/plain": [
              "<Figure size 3600x1440 with 1 Axes>"
            ]
          },
          "metadata": {
            "needs_background": "light"
          },
          "output_type": "display_data"
        }
      ],
      "source": [
        "df['format'].value_counts().plot.bar(figsize=(50,20)).set_title('format');"
      ]
    },
    {
      "cell_type": "markdown",
      "source": [
        "> Observations\n",
        "\n",
        "\n",
        "*   Kindle Edition has the highest count, paperback, hardcover and mass market paperback coming after it.\n",
        "*   Board book, Audio CD, SPiral bound, Audible Audiobook, Cards are very low.\n",
        "* All others are almost close to negligible\n",
        "\n"
      ],
      "metadata": {
        "id": "wNfIETyffLuk"
      }
    },
    {
      "cell_type": "markdown",
      "metadata": {
        "id": "o_NsSehOSbQ6"
      },
      "source": [
        "**2. Identify data quality issues and build data quality plan**"
      ]
    },
    {
      "cell_type": "markdown",
      "metadata": {
        "id": "EC0uunnxSheV"
      },
      "source": [
        "The most common data quality issues are:\n",
        "\n",
        "*   Missing values\n",
        "*   Irregular cardinality\n",
        "*   Outliers\n",
        "\n",
        "Missing Values:\n",
        "\n",
        "From the continuous and categorical features above we see that even though the count of all the columns is 100000, following columns have a missing percentage:\n",
        "\n",
        "- Continuous feature: reviewTextLength, reviewerNameLength, summaryLength\n",
        "\n",
        "- Categorical features: vote, reviewerName, reviewText and summary\n",
        "\n",
        "\n",
        "Checking again if there are null values in data frame using isnull"
      ]
    },
    {
      "cell_type": "code",
      "execution_count": null,
      "metadata": {
        "colab": {
          "base_uri": "https://localhost:8080/"
        },
        "id": "jbohUNzYTV0p",
        "outputId": "cd31a6ce-1301-4de3-fa71-832cad3b6fb4"
      },
      "outputs": [
        {
          "name": "stdout",
          "output_type": "stream",
          "text": [
            "Boolean mask of missing values:\n",
            "         overall   vote  reviewTime  reviewerID   asin  reviewerName  \\\n",
            "0         False  False       False       False  False         False   \n",
            "1         False   True       False       False  False         False   \n",
            "2         False  False       False       False  False         False   \n",
            "3         False   True       False       False  False         False   \n",
            "4         False  False       False       False  False         False   \n",
            "...         ...    ...         ...         ...    ...           ...   \n",
            "999995    False   True       False       False  False         False   \n",
            "999996    False   True       False       False  False         False   \n",
            "999997    False   True       False       False  False         False   \n",
            "999998    False   True       False       False  False         False   \n",
            "999999    False   True       False       False  False         False   \n",
            "\n",
            "        reviewText  summary  unixReviewTime  reviewTextLength  ...  \\\n",
            "0            False    False           False             False  ...   \n",
            "1            False    False           False             False  ...   \n",
            "2            False    False           False             False  ...   \n",
            "3            False    False           False             False  ...   \n",
            "4            False    False           False             False  ...   \n",
            "...            ...      ...             ...               ...  ...   \n",
            "999995       False    False           False             False  ...   \n",
            "999996       False    False           False             False  ...   \n",
            "999997       False    False           False             False  ...   \n",
            "999998       False    False           False             False  ...   \n",
            "999999       False    False           False             False  ...   \n",
            "\n",
            "        reviewerNameWord  reviewerNameIsAlNum_False  reviewerNameIsAlNum_True  \\\n",
            "0                  False                      False                     False   \n",
            "1                  False                      False                     False   \n",
            "2                  False                      False                     False   \n",
            "3                  False                      False                     False   \n",
            "4                  False                      False                     False   \n",
            "...                  ...                        ...                       ...   \n",
            "999995             False                      False                     False   \n",
            "999996             False                      False                     False   \n",
            "999997             False                      False                     False   \n",
            "999998             False                      False                     False   \n",
            "999999             False                      False                     False   \n",
            "\n",
            "        reviewTextIsAlNum_False  reviewTextIsAlNum_True  summaryIsAlNum_False  \\\n",
            "0                         False                   False                 False   \n",
            "1                         False                   False                 False   \n",
            "2                         False                   False                 False   \n",
            "3                         False                   False                 False   \n",
            "4                         False                   False                 False   \n",
            "...                         ...                     ...                   ...   \n",
            "999995                    False                   False                 False   \n",
            "999996                    False                   False                 False   \n",
            "999997                    False                   False                 False   \n",
            "999998                    False                   False                 False   \n",
            "999999                    False                   False                 False   \n",
            "\n",
            "        summaryIsAlNum_True  verified_False  verified_True  format  \n",
            "0                     False           False          False   False  \n",
            "1                     False           False          False   False  \n",
            "2                     False           False          False   False  \n",
            "3                     False           False          False   False  \n",
            "4                     False           False          False   False  \n",
            "...                     ...             ...            ...     ...  \n",
            "999995                False           False          False   False  \n",
            "999996                False           False          False   False  \n",
            "999997                False           False          False   False  \n",
            "999998                False           False          False   False  \n",
            "999999                False           False          False   False  \n",
            "\n",
            "[1000000 rows x 24 columns]\n"
          ]
        }
      ],
      "source": [
        "print(\"Boolean mask of missing values:\\n\",df.isnull())"
      ]
    },
    {
      "cell_type": "markdown",
      "metadata": {
        "id": "9jPsdAdQTfWQ"
      },
      "source": [
        ">Observations \n",
        "\n",
        "- From the above result it can be observed that 'vote' definitely has a lot of null values, for others it isn't visible because the dataset is too large. \n",
        "\n",
        "- From the continuous and categorical features report above it is observed that the missing percentage for vote is 80.451 while for others it is less than 0.05%.\n",
        "\n",
        "- Hence, before dropping the null values removing the vote column as it will affect the consistency in dataset if null values are removed with it."
      ]
    },
    {
      "cell_type": "markdown",
      "metadata": {
        "id": "Q-HAW1VzVXCz"
      },
      "source": [
        "Irregular cardinality:\n",
        "\n",
        "General Issues with irregular cardinality are:\n",
        "\n",
        "- Features with a cardinality of 1\n",
        "\n",
        "- Too low cardinality continuous features\n",
        "\n",
        "- Too high cardinality categorical features\n",
        "\n",
        "With the above findings for categorical and continuous features, it is observed that -\n",
        "\n",
        "- There are no columns with cardinality 1\n",
        "- Continuous features 'overall' have low cardinalities of 5 but, it can't be removed as overall will be our target variable later.\n",
        "- Most of the categorical features have a very high cardinality but we won't be dropping them as the data later requires modeling to be done on textual data hence we need to keep it. "
      ]
    },
    {
      "cell_type": "markdown",
      "metadata": {
        "id": "9YRfhU2aWho7"
      },
      "source": [
        "Outliers\n",
        "\n",
        "- The values which lie completely secluded from all other values are outliers.\n",
        "- Since it is a review data(textual format) we can expect a lot of outliers hence not removing them"
      ]
    },
    {
      "cell_type": "markdown",
      "metadata": {
        "id": "R0aPeoIHYI0p"
      },
      "source": [
        "**3. Pre-processing data according to data quality plan**"
      ]
    },
    {
      "cell_type": "markdown",
      "metadata": {
        "id": "SO7m6vLDYM8M"
      },
      "source": [
        "Dropping the 'vote' column"
      ]
    },
    {
      "cell_type": "code",
      "execution_count": null,
      "metadata": {
        "id": "q_v3OrW8YJdR"
      },
      "outputs": [],
      "source": [
        "df=df.drop(['vote'], axis=1)"
      ]
    },
    {
      "cell_type": "markdown",
      "metadata": {
        "id": "_aH1TbubYlPi"
      },
      "source": [
        "Dropping all the null values"
      ]
    },
    {
      "cell_type": "code",
      "execution_count": null,
      "metadata": {
        "id": "hgjfJIQIYn2k"
      },
      "outputs": [],
      "source": [
        "df.dropna(inplace=True)"
      ]
    },
    {
      "cell_type": "code",
      "execution_count": null,
      "metadata": {
        "colab": {
          "base_uri": "https://localhost:8080/"
        },
        "id": "eyMSFBAbZBNK",
        "outputId": "31199f4f-5d62-4e94-e7e8-e3a3bc4fd92b"
      },
      "outputs": [
        {
          "data": {
            "text/html": [
              "<div>\n",
              "<style scoped>\n",
              "    .dataframe tbody tr th:only-of-type {\n",
              "        vertical-align: middle;\n",
              "    }\n",
              "\n",
              "    .dataframe tbody tr th {\n",
              "        vertical-align: top;\n",
              "    }\n",
              "\n",
              "    .dataframe thead th {\n",
              "        text-align: right;\n",
              "    }\n",
              "</style>\n",
              "<table border=\"1\" class=\"dataframe\">\n",
              "  <thead>\n",
              "    <tr style=\"text-align: right;\">\n",
              "      <th></th>\n",
              "      <th>overall</th>\n",
              "      <th>reviewTime</th>\n",
              "      <th>reviewerID</th>\n",
              "      <th>asin</th>\n",
              "      <th>reviewerName</th>\n",
              "      <th>reviewText</th>\n",
              "      <th>summary</th>\n",
              "      <th>unixReviewTime</th>\n",
              "      <th>reviewTextLength</th>\n",
              "      <th>reviewerNameLength</th>\n",
              "      <th>...</th>\n",
              "      <th>reviewerNameWord</th>\n",
              "      <th>reviewerNameIsAlNum_False</th>\n",
              "      <th>reviewerNameIsAlNum_True</th>\n",
              "      <th>reviewTextIsAlNum_False</th>\n",
              "      <th>reviewTextIsAlNum_True</th>\n",
              "      <th>summaryIsAlNum_False</th>\n",
              "      <th>summaryIsAlNum_True</th>\n",
              "      <th>verified_False</th>\n",
              "      <th>verified_True</th>\n",
              "      <th>format</th>\n",
              "    </tr>\n",
              "  </thead>\n",
              "  <tbody>\n",
              "    <tr>\n",
              "      <th>0</th>\n",
              "      <td>3</td>\n",
              "      <td>05 18, 2002</td>\n",
              "      <td>AJ8AQG2X9JJ2Y</td>\n",
              "      <td>0001712799</td>\n",
              "      <td>Donald Gillies</td>\n",
              "      <td>Dr. Seuss has some really brilliant books.  Th...</td>\n",
              "      <td>A below-average Dr. Seuss Book</td>\n",
              "      <td>1021680000</td>\n",
              "      <td>617</td>\n",
              "      <td>14</td>\n",
              "      <td>...</td>\n",
              "      <td>2</td>\n",
              "      <td>1</td>\n",
              "      <td>0</td>\n",
              "      <td>1</td>\n",
              "      <td>0</td>\n",
              "      <td>1</td>\n",
              "      <td>0</td>\n",
              "      <td>1</td>\n",
              "      <td>0</td>\n",
              "      <td>School &amp; Library Binding</td>\n",
              "    </tr>\n",
              "    <tr>\n",
              "      <th>1</th>\n",
              "      <td>5</td>\n",
              "      <td>12 11, 2014</td>\n",
              "      <td>A12Q7B7NT716RV</td>\n",
              "      <td>0001712799</td>\n",
              "      <td>True Value Girl</td>\n",
              "      <td>Love it</td>\n",
              "      <td>Five Stars</td>\n",
              "      <td>1418256000</td>\n",
              "      <td>7</td>\n",
              "      <td>15</td>\n",
              "      <td>...</td>\n",
              "      <td>3</td>\n",
              "      <td>1</td>\n",
              "      <td>0</td>\n",
              "      <td>1</td>\n",
              "      <td>0</td>\n",
              "      <td>1</td>\n",
              "      <td>0</td>\n",
              "      <td>0</td>\n",
              "      <td>1</td>\n",
              "      <td>Hardcover</td>\n",
              "    </tr>\n",
              "    <tr>\n",
              "      <th>2</th>\n",
              "      <td>4</td>\n",
              "      <td>01 6, 2006</td>\n",
              "      <td>A1DK5AZMXS1QA3</td>\n",
              "      <td>0002006448</td>\n",
              "      <td>Newton Ooi</td>\n",
              "      <td>Hand-woven carpets are one of the few products...</td>\n",
              "      <td>Tourism as history</td>\n",
              "      <td>1136505600</td>\n",
              "      <td>1419</td>\n",
              "      <td>10</td>\n",
              "      <td>...</td>\n",
              "      <td>2</td>\n",
              "      <td>1</td>\n",
              "      <td>0</td>\n",
              "      <td>1</td>\n",
              "      <td>0</td>\n",
              "      <td>1</td>\n",
              "      <td>0</td>\n",
              "      <td>1</td>\n",
              "      <td>0</td>\n",
              "      <td>Hardcover</td>\n",
              "    </tr>\n",
              "    <tr>\n",
              "      <th>3</th>\n",
              "      <td>4</td>\n",
              "      <td>12 8, 2014</td>\n",
              "      <td>A1JMSX54DO3LOP</td>\n",
              "      <td>0002005263</td>\n",
              "      <td>Bookzilla</td>\n",
              "      <td>Compelling, twisting mystery involving several...</td>\n",
              "      <td>Compelling, twisting mystery</td>\n",
              "      <td>1417996800</td>\n",
              "      <td>314</td>\n",
              "      <td>9</td>\n",
              "      <td>...</td>\n",
              "      <td>1</td>\n",
              "      <td>0</td>\n",
              "      <td>1</td>\n",
              "      <td>1</td>\n",
              "      <td>0</td>\n",
              "      <td>1</td>\n",
              "      <td>0</td>\n",
              "      <td>1</td>\n",
              "      <td>0</td>\n",
              "      <td>Kindle Edition</td>\n",
              "    </tr>\n",
              "    <tr>\n",
              "      <th>4</th>\n",
              "      <td>2</td>\n",
              "      <td>03 3, 2014</td>\n",
              "      <td>A2IP27AZB3D1SM</td>\n",
              "      <td>0002005263</td>\n",
              "      <td>J. A. Drummond</td>\n",
              "      <td>I have read many of the Hillerman books and en...</td>\n",
              "      <td>Tony missed the mark</td>\n",
              "      <td>1393804800</td>\n",
              "      <td>235</td>\n",
              "      <td>14</td>\n",
              "      <td>...</td>\n",
              "      <td>3</td>\n",
              "      <td>1</td>\n",
              "      <td>0</td>\n",
              "      <td>1</td>\n",
              "      <td>0</td>\n",
              "      <td>1</td>\n",
              "      <td>0</td>\n",
              "      <td>0</td>\n",
              "      <td>1</td>\n",
              "      <td>Kindle Edition</td>\n",
              "    </tr>\n",
              "    <tr>\n",
              "      <th>...</th>\n",
              "      <td>...</td>\n",
              "      <td>...</td>\n",
              "      <td>...</td>\n",
              "      <td>...</td>\n",
              "      <td>...</td>\n",
              "      <td>...</td>\n",
              "      <td>...</td>\n",
              "      <td>...</td>\n",
              "      <td>...</td>\n",
              "      <td>...</td>\n",
              "      <td>...</td>\n",
              "      <td>...</td>\n",
              "      <td>...</td>\n",
              "      <td>...</td>\n",
              "      <td>...</td>\n",
              "      <td>...</td>\n",
              "      <td>...</td>\n",
              "      <td>...</td>\n",
              "      <td>...</td>\n",
              "      <td>...</td>\n",
              "      <td>...</td>\n",
              "    </tr>\n",
              "    <tr>\n",
              "      <th>999995</th>\n",
              "      <td>3</td>\n",
              "      <td>12 1, 2017</td>\n",
              "      <td>A1PLIAXAWGGEZO</td>\n",
              "      <td>B01HH2OZVS</td>\n",
              "      <td>Linda  Cope</td>\n",
              "      <td>What I liked most was the personal stories of ...</td>\n",
              "      <td>What I liked most was the personal stories of ...</td>\n",
              "      <td>1512086400</td>\n",
              "      <td>364</td>\n",
              "      <td>11</td>\n",
              "      <td>...</td>\n",
              "      <td>2</td>\n",
              "      <td>1</td>\n",
              "      <td>0</td>\n",
              "      <td>1</td>\n",
              "      <td>0</td>\n",
              "      <td>1</td>\n",
              "      <td>0</td>\n",
              "      <td>0</td>\n",
              "      <td>1</td>\n",
              "      <td>Kindle Edition</td>\n",
              "    </tr>\n",
              "    <tr>\n",
              "      <th>999996</th>\n",
              "      <td>3</td>\n",
              "      <td>12 22, 2016</td>\n",
              "      <td>A1Q3MLS48AUBKO</td>\n",
              "      <td>B01HHC2MD6</td>\n",
              "      <td>weaselbit</td>\n",
              "      <td>The story is alright. The writing style is a b...</td>\n",
              "      <td>The story is alright. The writing style is a ...</td>\n",
              "      <td>1482364800</td>\n",
              "      <td>130</td>\n",
              "      <td>9</td>\n",
              "      <td>...</td>\n",
              "      <td>1</td>\n",
              "      <td>0</td>\n",
              "      <td>1</td>\n",
              "      <td>1</td>\n",
              "      <td>0</td>\n",
              "      <td>1</td>\n",
              "      <td>0</td>\n",
              "      <td>1</td>\n",
              "      <td>0</td>\n",
              "      <td>Kindle Edition</td>\n",
              "    </tr>\n",
              "    <tr>\n",
              "      <th>999997</th>\n",
              "      <td>5</td>\n",
              "      <td>07 2, 2016</td>\n",
              "      <td>A34MRZFAZPPESL</td>\n",
              "      <td>B01HHC2MD6</td>\n",
              "      <td>skygypsy</td>\n",
              "      <td>l really loved this little book.  The author's...</td>\n",
              "      <td>A Lovely Little Feel-Good Story</td>\n",
              "      <td>1467417600</td>\n",
              "      <td>200</td>\n",
              "      <td>8</td>\n",
              "      <td>...</td>\n",
              "      <td>1</td>\n",
              "      <td>0</td>\n",
              "      <td>1</td>\n",
              "      <td>1</td>\n",
              "      <td>0</td>\n",
              "      <td>1</td>\n",
              "      <td>0</td>\n",
              "      <td>1</td>\n",
              "      <td>0</td>\n",
              "      <td>Kindle Edition</td>\n",
              "    </tr>\n",
              "    <tr>\n",
              "      <th>999998</th>\n",
              "      <td>5</td>\n",
              "      <td>01 26, 2017</td>\n",
              "      <td>ARFHS6IU8WI0</td>\n",
              "      <td>B01HIIHU7W</td>\n",
              "      <td>DonnaL</td>\n",
              "      <td>I have read everything Keith Blackmore has wri...</td>\n",
              "      <td>Love Keith Blackmore's books!</td>\n",
              "      <td>1485388800</td>\n",
              "      <td>120</td>\n",
              "      <td>6</td>\n",
              "      <td>...</td>\n",
              "      <td>1</td>\n",
              "      <td>0</td>\n",
              "      <td>1</td>\n",
              "      <td>1</td>\n",
              "      <td>0</td>\n",
              "      <td>1</td>\n",
              "      <td>0</td>\n",
              "      <td>0</td>\n",
              "      <td>1</td>\n",
              "      <td>Kindle Edition</td>\n",
              "    </tr>\n",
              "    <tr>\n",
              "      <th>999999</th>\n",
              "      <td>5</td>\n",
              "      <td>07 4, 2016</td>\n",
              "      <td>A22FAHV2R6BUVR</td>\n",
              "      <td>B01HJBPTUI</td>\n",
              "      <td>Amy&amp;#039;s Bookshelf Reviews</td>\n",
              "      <td>Another amazing book by Ernst. Sequels are not...</td>\n",
              "      <td>Masterful</td>\n",
              "      <td>1467590400</td>\n",
              "      <td>345</td>\n",
              "      <td>28</td>\n",
              "      <td>...</td>\n",
              "      <td>3</td>\n",
              "      <td>1</td>\n",
              "      <td>0</td>\n",
              "      <td>1</td>\n",
              "      <td>0</td>\n",
              "      <td>0</td>\n",
              "      <td>1</td>\n",
              "      <td>0</td>\n",
              "      <td>1</td>\n",
              "      <td>Kindle Edition</td>\n",
              "    </tr>\n",
              "  </tbody>\n",
              "</table>\n",
              "<p>981663 rows × 23 columns</p>\n",
              "</div>"
            ],
            "text/plain": [
              "        overall   reviewTime      reviewerID        asin  \\\n",
              "0             3  05 18, 2002   AJ8AQG2X9JJ2Y  0001712799   \n",
              "1             5  12 11, 2014  A12Q7B7NT716RV  0001712799   \n",
              "2             4   01 6, 2006  A1DK5AZMXS1QA3  0002006448   \n",
              "3             4   12 8, 2014  A1JMSX54DO3LOP  0002005263   \n",
              "4             2   03 3, 2014  A2IP27AZB3D1SM  0002005263   \n",
              "...         ...          ...             ...         ...   \n",
              "999995        3   12 1, 2017  A1PLIAXAWGGEZO  B01HH2OZVS   \n",
              "999996        3  12 22, 2016  A1Q3MLS48AUBKO  B01HHC2MD6   \n",
              "999997        5   07 2, 2016  A34MRZFAZPPESL  B01HHC2MD6   \n",
              "999998        5  01 26, 2017    ARFHS6IU8WI0  B01HIIHU7W   \n",
              "999999        5   07 4, 2016  A22FAHV2R6BUVR  B01HJBPTUI   \n",
              "\n",
              "                        reviewerName  \\\n",
              "0                     Donald Gillies   \n",
              "1                    True Value Girl   \n",
              "2                         Newton Ooi   \n",
              "3                          Bookzilla   \n",
              "4                     J. A. Drummond   \n",
              "...                              ...   \n",
              "999995                   Linda  Cope   \n",
              "999996                     weaselbit   \n",
              "999997                      skygypsy   \n",
              "999998                        DonnaL   \n",
              "999999  Amy&#039;s Bookshelf Reviews   \n",
              "\n",
              "                                               reviewText  \\\n",
              "0       Dr. Seuss has some really brilliant books.  Th...   \n",
              "1                                                 Love it   \n",
              "2       Hand-woven carpets are one of the few products...   \n",
              "3       Compelling, twisting mystery involving several...   \n",
              "4       I have read many of the Hillerman books and en...   \n",
              "...                                                   ...   \n",
              "999995  What I liked most was the personal stories of ...   \n",
              "999996  The story is alright. The writing style is a b...   \n",
              "999997  l really loved this little book.  The author's...   \n",
              "999998  I have read everything Keith Blackmore has wri...   \n",
              "999999  Another amazing book by Ernst. Sequels are not...   \n",
              "\n",
              "                                                  summary  unixReviewTime  \\\n",
              "0                          A below-average Dr. Seuss Book      1021680000   \n",
              "1                                              Five Stars      1418256000   \n",
              "2                                      Tourism as history      1136505600   \n",
              "3                            Compelling, twisting mystery      1417996800   \n",
              "4                                    Tony missed the mark      1393804800   \n",
              "...                                                   ...             ...   \n",
              "999995  What I liked most was the personal stories of ...      1512086400   \n",
              "999996   The story is alright. The writing style is a ...      1482364800   \n",
              "999997                    A Lovely Little Feel-Good Story      1467417600   \n",
              "999998                      Love Keith Blackmore's books!      1485388800   \n",
              "999999                                          Masterful      1467590400   \n",
              "\n",
              "        reviewTextLength  reviewerNameLength  ...  reviewerNameWord  \\\n",
              "0                    617                  14  ...                 2   \n",
              "1                      7                  15  ...                 3   \n",
              "2                   1419                  10  ...                 2   \n",
              "3                    314                   9  ...                 1   \n",
              "4                    235                  14  ...                 3   \n",
              "...                  ...                 ...  ...               ...   \n",
              "999995               364                  11  ...                 2   \n",
              "999996               130                   9  ...                 1   \n",
              "999997               200                   8  ...                 1   \n",
              "999998               120                   6  ...                 1   \n",
              "999999               345                  28  ...                 3   \n",
              "\n",
              "        reviewerNameIsAlNum_False  reviewerNameIsAlNum_True  \\\n",
              "0                               1                         0   \n",
              "1                               1                         0   \n",
              "2                               1                         0   \n",
              "3                               0                         1   \n",
              "4                               1                         0   \n",
              "...                           ...                       ...   \n",
              "999995                          1                         0   \n",
              "999996                          0                         1   \n",
              "999997                          0                         1   \n",
              "999998                          0                         1   \n",
              "999999                          1                         0   \n",
              "\n",
              "        reviewTextIsAlNum_False  reviewTextIsAlNum_True  summaryIsAlNum_False  \\\n",
              "0                             1                       0                     1   \n",
              "1                             1                       0                     1   \n",
              "2                             1                       0                     1   \n",
              "3                             1                       0                     1   \n",
              "4                             1                       0                     1   \n",
              "...                         ...                     ...                   ...   \n",
              "999995                        1                       0                     1   \n",
              "999996                        1                       0                     1   \n",
              "999997                        1                       0                     1   \n",
              "999998                        1                       0                     1   \n",
              "999999                        1                       0                     0   \n",
              "\n",
              "        summaryIsAlNum_True  verified_False  verified_True  \\\n",
              "0                         0               1              0   \n",
              "1                         0               0              1   \n",
              "2                         0               1              0   \n",
              "3                         0               1              0   \n",
              "4                         0               0              1   \n",
              "...                     ...             ...            ...   \n",
              "999995                    0               0              1   \n",
              "999996                    0               1              0   \n",
              "999997                    0               1              0   \n",
              "999998                    0               0              1   \n",
              "999999                    1               0              1   \n",
              "\n",
              "                           format  \n",
              "0        School & Library Binding  \n",
              "1                       Hardcover  \n",
              "2                       Hardcover  \n",
              "3                  Kindle Edition  \n",
              "4                  Kindle Edition  \n",
              "...                           ...  \n",
              "999995             Kindle Edition  \n",
              "999996             Kindle Edition  \n",
              "999997             Kindle Edition  \n",
              "999998             Kindle Edition  \n",
              "999999             Kindle Edition  \n",
              "\n",
              "[981663 rows x 23 columns]"
            ]
          },
          "execution_count": 121,
          "metadata": {},
          "output_type": "execute_result"
        }
      ],
      "source": [
        "# Drop null values in columns\n",
        "df.dropna(axis='columns')"
      ]
    },
    {
      "cell_type": "markdown",
      "metadata": {
        "id": "jK0UHjQdfG7a"
      },
      "source": [
        "**4. Answer the following questions:**"
      ]
    },
    {
      "cell_type": "markdown",
      "metadata": {
        "id": "mFbPYoG7fG7b"
      },
      "source": [
        "**1. What is the distribution of the top 50 most frequent words (excluding the\n",
        "stop words) for each of the textual features?**"
      ]
    },
    {
      "cell_type": "markdown",
      "metadata": {
        "id": "sV1zeOrpfG7b"
      },
      "source": [
        "Removing stop words for textual features"
      ]
    },
    {
      "cell_type": "code",
      "execution_count": null,
      "metadata": {
        "id": "rQjszqfjfG7b"
      },
      "outputs": [],
      "source": [
        "df_obs = df"
      ]
    },
    {
      "cell_type": "code",
      "execution_count": null,
      "metadata": {
        "id": "9xrj0AEXfG7b"
      },
      "outputs": [],
      "source": [
        "# Code Reference: https://stackoverflow.com/a/43407993/12146592 [3]\n",
        "from sklearn.feature_extraction import text\n",
        "stop = text.ENGLISH_STOP_WORDS"
      ]
    },
    {
      "cell_type": "code",
      "execution_count": null,
      "metadata": {
        "id": "BZNsUj0RfG7b"
      },
      "outputs": [],
      "source": [
        "df_obs['reviewTextWithoutStopwords'] = df_obs['reviewText'].apply(lambda x: ' '.join([word for word in x.split() if word not in (stop)]))\n",
        "df_obs['summaryWithoutStopwords'] = df_obs['summary'].apply(lambda x: ' '.join([word for word in x.split() if word not in (stop)]))\n",
        "df_obs['reviewerNameWithoutStopwords'] = df_obs['reviewerName'].apply(lambda x: ' '.join([word for word in x.split() if word not in (stop)]))\n",
        "df_obs['formatWithoutStopwords'] = df_obs['format'].apply(lambda x: ' '.join([word for word in x.split() if word not in (stop)]))"
      ]
    },
    {
      "cell_type": "code",
      "execution_count": null,
      "metadata": {
        "id": "2JisEp5UfG7c"
      },
      "outputs": [],
      "source": [
        "# Code Reference: https://www.kaggle.com/code/thrillanalysis/amazon-reviews-analysis/notebook [4]\n",
        "from nltk import FreqDist\n",
        "def freq_words(x, terms = 50):\n",
        "  all_words = ' '.join([text for text in x])\n",
        "  all_words = all_words.split()\n",
        "\n",
        "  fdist = FreqDist(all_words)\n",
        "  words_df = pd.DataFrame({'word':list(fdist.keys()), 'count':list(fdist.values())})\n",
        "\n",
        "  # selecting top 50 most frequent words\n",
        "  d = words_df.nlargest(columns=\"count\", n = terms) \n",
        "  plt.figure(figsize=(50,20))\n",
        "  ax = sns.barplot(data=d, x= \"word\", y = \"count\")\n",
        "  ax.set(ylabel = 'Count')\n",
        "  plt.show()"
      ]
    },
    {
      "cell_type": "code",
      "execution_count": null,
      "metadata": {
        "id": "CTf3wROofG7c",
        "outputId": "e9a22768-26ee-4ee8-89d7-c989ffb19e9f"
      },
      "outputs": [
        {
          "data": {
            "image/png": "[encoded data removed]",
            "text/plain": [
              "<Figure size 3600x1440 with 1 Axes>"
            ]
          },
          "metadata": {
            "needs_background": "light"
          },
          "output_type": "display_data"
        }
      ],
      "source": [
        "freq_words(df_obs['reviewTextWithoutStopwords'])"
      ]
    },
    {
      "cell_type": "code",
      "execution_count": null,
      "metadata": {
        "id": "OLkniEFtfG7c"
      },
      "outputs": [],
      "source": [
        "from collections import Counter"
      ]
    },
    {
      "cell_type": "code",
      "execution_count": null,
      "metadata": {
        "id": "sVtSckVRfG7c",
        "outputId": "10562bca-a0d7-46d4-92a5-cae370e4cdf5"
      },
      "outputs": [
        {
          "data": {
            "text/plain": [
              "[('I', 2012500),\n",
              " ('book', 810441),\n",
              " ('The', 551988),\n",
              " ('read', 378412),\n",
              " ('This', 344269),\n",
              " ('story', 302931),\n",
              " ('like', 255263),\n",
              " ('It', 240938),\n",
              " ('just', 237268),\n",
              " ('love', 207638),\n",
              " ('book.', 192344),\n",
              " ('good', 191723),\n",
              " ('really', 189806),\n",
              " ('great', 167173),\n",
              " ('characters', 153902),\n",
              " ('reading', 151457),\n",
              " ('books', 150985),\n",
              " ('time', 128684),\n",
              " ('A', 122763),\n",
              " ('it.', 119525),\n",
              " ('-', 118603),\n",
              " ('author', 114902),\n",
              " ('way', 112599),\n",
              " ('know', 109894),\n",
              " ('life', 105366),\n",
              " ('series', 102312),\n",
              " ('little', 100764),\n",
              " ('He', 100526),\n",
              " ('loved', 99122),\n",
              " ('did', 98824),\n",
              " ('think', 98093),\n",
              " ('make', 95926),\n",
              " ('people', 94527),\n",
              " ('enjoyed', 92538),\n",
              " ('book,', 92020),\n",
              " (\"don't\", 91760),\n",
              " ('want', 91678),\n",
              " ('She', 91498),\n",
              " ('But', 91128),\n",
              " ('new', 89109),\n",
              " (\"I'm\", 88127),\n",
              " ('If', 86322),\n",
              " ('read.', 85282),\n",
              " (\"didn't\", 84660),\n",
              " (\"it's\", 84631),\n",
              " ('There', 83049),\n",
              " ('And', 80548),\n",
              " ('In', 79976),\n",
              " ('recommend', 78156),\n",
              " ('does', 77125)]"
            ]
          },
          "execution_count": 128,
          "metadata": {},
          "output_type": "execute_result"
        }
      ],
      "source": [
        "# Code Reference: https://stackoverflow.com/a/29903102/12146592 [5]\n",
        "Counter(\" \".join(df_obs['reviewTextWithoutStopwords']).split()).most_common(50)"
      ]
    },
    {
      "cell_type": "markdown",
      "metadata": {
        "id": "cncIjfuCfG7d"
      },
      "source": [
        "Observation\n",
        "* From the above graph and tabular data for reviewText without stopwords it can be observed that 'I' has the higest frequency with a count of 2012500 and does has the lowest frequency with a count of 77125."
      ]
    },
    {
      "cell_type": "code",
      "execution_count": null,
      "metadata": {
        "id": "mNO-nqeTfG7d",
        "outputId": "7ad86730-20e7-4083-fa64-ba452377823c"
      },
      "outputs": [
        {
          "data": {
            "image/png": "[encoded data removed]",
            "text/plain": [
              "<Figure size 3600x1440 with 1 Axes>"
            ]
          },
          "metadata": {
            "needs_background": "light"
          },
          "output_type": "display_data"
        }
      ],
      "source": [
        "freq_words(df_obs['summaryWithoutStopwords'])"
      ]
    },
    {
      "cell_type": "code",
      "execution_count": null,
      "metadata": {
        "id": "iwyS_4-TfG7d",
        "outputId": "3be055cb-cd55-4428-c36b-c57cb7e2d58e"
      },
      "outputs": [
        {
          "data": {
            "text/plain": [
              "[('Stars', 128023),\n",
              " ('Five', 92108),\n",
              " ('book', 67340),\n",
              " ('A', 67238),\n",
              " ('I', 62600),\n",
              " ('Great', 56092),\n",
              " ('read', 47984),\n",
              " ('...', 37092),\n",
              " ('Good', 32583),\n",
              " ('The', 31972),\n",
              " ('good', 29963),\n",
              " ('great', 27313),\n",
              " ('story', 25082),\n",
              " ('Four', 23522),\n",
              " ('love', 17915),\n",
              " ('This', 17678),\n",
              " ('Book', 16485),\n",
              " ('Not', 15593),\n",
              " ('Read', 15248),\n",
              " ('Love', 14264),\n",
              " ('series', 13865),\n",
              " ('Very', 13542),\n",
              " ('Excellent', 13136),\n",
              " ('Another', 11790),\n",
              " ('Loved', 11375),\n",
              " ('like', 11222),\n",
              " ('-', 10405),\n",
              " ('An', 10114),\n",
              " ('Three', 9476),\n",
              " ('One', 9464),\n",
              " ('book!', 9373),\n",
              " ('It', 9000),\n",
              " ('best', 8743),\n",
              " ('books', 8654),\n",
              " ('read!', 8393),\n",
              " ('reading', 8269),\n",
              " ('loved', 8116),\n",
              " ('read.', 7635),\n",
              " ('book.', 7435),\n",
              " ('really', 7188),\n",
              " ('fun', 6627),\n",
              " ('Wonderful', 6612),\n",
              " ('it!', 6532),\n",
              " ('enjoyed', 6462),\n",
              " ('Fun', 6372),\n",
              " ('Interesting', 6343),\n",
              " ('Story', 6135),\n",
              " ('What', 6128),\n",
              " ('just', 5965),\n",
              " ('&', 5955)]"
            ]
          },
          "execution_count": 130,
          "metadata": {},
          "output_type": "execute_result"
        }
      ],
      "source": [
        "Counter(\" \".join(df_obs['summaryWithoutStopwords']).split()).most_common(50)"
      ]
    },
    {
      "cell_type": "markdown",
      "metadata": {
        "id": "ujagESmRfG7e"
      },
      "source": [
        "Observation\n",
        "* From the above graph and tabular data for summary without stopwords it can be observed that 'Stars' has the higest frequency with a count of 128023 and '&' has the lowest frequency with a count of 5955."
      ]
    },
    {
      "cell_type": "code",
      "execution_count": null,
      "metadata": {
        "id": "2RTkNFWLfG7e",
        "outputId": "8b49827f-9f4a-475f-c471-4ae4373e5905"
      },
      "outputs": [
        {
          "data": {
            "image/png": "[encoded data removed]",
            "text/plain": [
              "<Figure size 3600x1440 with 1 Axes>"
            ]
          },
          "metadata": {
            "needs_background": "light"
          },
          "output_type": "display_data"
        }
      ],
      "source": [
        "freq_words(df_obs['reviewerNameWithoutStopwords'])"
      ]
    },
    {
      "cell_type": "code",
      "execution_count": null,
      "metadata": {
        "id": "6ilRiPoDfG7e",
        "outputId": "cef71c7f-bce4-43f6-f57e-426574d57019"
      },
      "outputs": [
        {
          "data": {
            "text/plain": [
              "[('Customer', 80114),\n",
              " ('Amazon', 48242),\n",
              " ('Kindle', 33779),\n",
              " ('J.', 16258),\n",
              " ('M.', 15379),\n",
              " ('A.', 14265),\n",
              " ('L.', 12553),\n",
              " ('S.', 11188),\n",
              " ('C.', 10633),\n",
              " ('D.', 9775),\n",
              " ('R.', 9390),\n",
              " ('B.', 7974),\n",
              " ('E.', 7750),\n",
              " ('K.', 7098),\n",
              " ('John', 6120),\n",
              " ('Book', 5788),\n",
              " ('Mary', 5705),\n",
              " ('P.', 5340),\n",
              " ('T.', 5112),\n",
              " ('G.', 5061),\n",
              " ('David', 5018),\n",
              " ('W.', 4989),\n",
              " ('A', 4980),\n",
              " ('Michael', 4851),\n",
              " ('H.', 4842),\n",
              " ('Linda', 4612),\n",
              " ('Reader', 4574),\n",
              " ('M', 4553),\n",
              " ('Robert', 4217),\n",
              " ('James', 4160),\n",
              " ('Smith', 4013),\n",
              " ('The', 3971),\n",
              " ('J', 3958),\n",
              " ('Susan', 3764),\n",
              " ('Karen', 3380),\n",
              " ('L', 3379),\n",
              " ('B', 3297),\n",
              " ('Barbara', 3235),\n",
              " ('F.', 3215),\n",
              " ('C', 3162),\n",
              " ('Jennifer', 3046),\n",
              " ('S', 3006),\n",
              " ('Lisa', 2960),\n",
              " ('Nancy', 2952),\n",
              " ('D', 2919),\n",
              " ('Ann', 2856),\n",
              " ('Patricia', 2738),\n",
              " ('Richard', 2728),\n",
              " ('William', 2699),\n",
              " ('R', 2688)]"
            ]
          },
          "execution_count": 132,
          "metadata": {},
          "output_type": "execute_result"
        }
      ],
      "source": [
        "Counter(\" \".join(df_obs['reviewerNameWithoutStopwords']).split()).most_common(50)"
      ]
    },
    {
      "cell_type": "markdown",
      "metadata": {
        "id": "5G3sZQE0fG7e"
      },
      "source": [
        "Observation\n",
        "* From the above graph and tabular data for reviewerName without stopwords it can be observed that 'Customer' has the higest frequency with a count of 80114 and 'R' has the lowest frequency with a count of 2688."
      ]
    },
    {
      "cell_type": "code",
      "execution_count": null,
      "metadata": {
        "id": "dn2cY3-ofG7e",
        "outputId": "83f30ff8-3fb9-4ee7-c865-438a99007f75"
      },
      "outputs": [
        {
          "data": {
            "image/png": "[encoded data removed]",
            "text/plain": [
              "<Figure size 3600x1440 with 1 Axes>"
            ]
          },
          "metadata": {
            "needs_background": "light"
          },
          "output_type": "display_data"
        }
      ],
      "source": [
        "freq_words(df_obs['formatWithoutStopwords'])"
      ]
    },
    {
      "cell_type": "code",
      "execution_count": null,
      "metadata": {
        "id": "yLctcvjXfG7e",
        "outputId": "8f8d34f7-b456-46e2-d704-579d3097716c"
      },
      "outputs": [
        {
          "data": {
            "text/plain": [
              "[('Kindle', 561581),\n",
              " ('Edition', 561581),\n",
              " ('Paperback', 262166),\n",
              " ('Hardcover', 133226),\n",
              " ('Mass', 32072),\n",
              " ('Market', 32072),\n",
              " ('Board', 4846),\n",
              " ('book', 4845),\n",
              " ('CD', 4792),\n",
              " ('Audio', 4676),\n",
              " ('Spiral-bound', 2434),\n",
              " ('Audible', 2005),\n",
              " ('Audiobook', 2005),\n",
              " ('Cards', 1642),\n",
              " ('Leather', 1430),\n",
              " ('Calendar', 905),\n",
              " ('Perfect', 853),\n",
              " ('Imitation', 813),\n",
              " ('Binding', 671),\n",
              " ('Pamphlet', 659),\n",
              " ('Bound', 619),\n",
              " ('DVD', 561),\n",
              " ('MP3', 537),\n",
              " ('Diary', 518),\n",
              " ('Library', 513),\n",
              " ('Map', 472),\n",
              " ('Hardcover-spiral', 427),\n",
              " ('Audio/Video', 423),\n",
              " ('Misc.', 409),\n",
              " ('Cassette', 391),\n",
              " ('Plastic', 382),\n",
              " ('Comb', 382),\n",
              " ('Supplies', 361),\n",
              " ('Video', 359),\n",
              " ('Amazon', 326),\n",
              " ('Flexibound', 322),\n",
              " ('Ring-bound', 157),\n",
              " ('Bonded', 155),\n",
              " ('Unknown', 135),\n",
              " ('Sheet', 105),\n",
              " ('music', 105),\n",
              " ('Book', 104),\n",
              " ('&', 103),\n",
              " ('Loose', 102),\n",
              " ('Leaf', 102),\n",
              " ('School', 101),\n",
              " ('Blu-ray', 98),\n",
              " ('Vinyl', 90),\n",
              " ('Stationery', 88),\n",
              " ('Staple', 75)]"
            ]
          },
          "execution_count": 134,
          "metadata": {},
          "output_type": "execute_result"
        }
      ],
      "source": [
        "Counter(\" \".join(df_obs['formatWithoutStopwords']).split()).most_common(50)"
      ]
    },
    {
      "cell_type": "markdown",
      "metadata": {
        "id": "2EaLfGCzfG7e"
      },
      "source": [
        "Observation\n",
        "* From the above graph and tabular data for Format without stopwords it can be observed that 'Kindle' has the higest frequency with a count of 561581 and 'Staple' has the lowest frequency with a count of 75."
      ]
    },
    {
      "cell_type": "markdown",
      "metadata": {
        "id": "YvYjGJaGfG7e"
      },
      "source": [
        "**2. What is the proportion of each format in the dataset?**"
      ]
    },
    {
      "cell_type": "code",
      "execution_count": null,
      "metadata": {
        "id": "NrssHmjEfG7f",
        "outputId": "d90523b2-5643-4007-d550-6b8e48d17419"
      },
      "outputs": [
        {
          "data": {
            "text/plain": [
              " Kindle Edition           57.164017\n",
              " Paperback                23.352209\n",
              " Hardcover                13.571256\n",
              " Mass Market Paperback     3.267109\n",
              " Board book                0.493550\n",
              "                            ...    \n",
              " Diskette                  0.000102\n",
              " Paperback Bunko           0.000102\n",
              " Baby Product              0.000102\n",
              " Board Game                0.000102\n",
              " Print on Demand           0.000102\n",
              "Name: format, Length: 89, dtype: float64"
            ]
          },
          "execution_count": 135,
          "metadata": {},
          "output_type": "execute_result"
        }
      ],
      "source": [
        "# Code Reference: https://stackoverflow.com/a/50558594/12146592 [6]\n",
        "df_obs['format'].value_counts(normalize=True) * 100"
      ]
    },
    {
      "cell_type": "markdown",
      "metadata": {
        "id": "4QFx4iQcfG7f"
      },
      "source": [
        "Observation\n",
        "* Kindle Edition has the hightest proportion - 57.16%\n",
        "* Diskette, Paperback Bunko, Baby Product, Board Game and Print on Demand all have the lowest proportion - 0.000102%"
      ]
    },
    {
      "cell_type": "markdown",
      "metadata": {
        "id": "zmwrSTJDfG7f"
      },
      "source": [
        "**3. What is the most/least common format of the books?**\n",
        "\n",
        "Most common format of the books is Kindle Edition, while least common format of the books is DVD Audio"
      ]
    },
    {
      "cell_type": "markdown",
      "metadata": {
        "id": "QUtfR8MEfG7f"
      },
      "source": [
        "**4. What patterns can you find in your data?**"
      ]
    },
    {
      "cell_type": "code",
      "execution_count": null,
      "metadata": {
        "id": "exeR7M1ofG7f",
        "outputId": "fd3e03e3-28f4-4572-e53b-eb24bd6fa68e"
      },
      "outputs": [
        {
          "name": "stdout",
          "output_type": "stream",
          "text": [
            "<class 'pandas.core.frame.DataFrame'>\n",
            "Int64Index: 981663 entries, 0 to 999999\n",
            "Data columns (total 27 columns):\n",
            " #   Column                        Non-Null Count   Dtype \n",
            "---  ------                        --------------   ----- \n",
            " 0   overall                       981663 non-null  Int64 \n",
            " 1   reviewTime                    981663 non-null  string\n",
            " 2   reviewerID                    981663 non-null  string\n",
            " 3   asin                          981663 non-null  string\n",
            " 4   reviewerName                  981663 non-null  string\n",
            " 5   reviewText                    981663 non-null  string\n",
            " 6   summary                       981663 non-null  string\n",
            " 7   unixReviewTime                981663 non-null  Int64 \n",
            " 8   reviewTextLength              981663 non-null  Int64 \n",
            " 9   reviewerNameLength            981663 non-null  Int64 \n",
            " 10  summaryLength                 981663 non-null  Int64 \n",
            " 11  summaryWord                   981663 non-null  int64 \n",
            " 12  reviewTextWord                981663 non-null  int64 \n",
            " 13  reviewerNameWord              981663 non-null  int64 \n",
            " 14  reviewerNameIsAlNum_False     981663 non-null  uint8 \n",
            " 15  reviewerNameIsAlNum_True      981663 non-null  uint8 \n",
            " 16  reviewTextIsAlNum_False       981663 non-null  uint8 \n",
            " 17  reviewTextIsAlNum_True        981663 non-null  uint8 \n",
            " 18  summaryIsAlNum_False          981663 non-null  uint8 \n",
            " 19  summaryIsAlNum_True           981663 non-null  uint8 \n",
            " 20  verified_False                981663 non-null  uint8 \n",
            " 21  verified_True                 981663 non-null  uint8 \n",
            " 22  format                        981663 non-null  object\n",
            " 23  reviewTextWithoutStopwords    981663 non-null  object\n",
            " 24  summaryWithoutStopwords       981663 non-null  object\n",
            " 25  reviewerNameWithoutStopwords  981663 non-null  object\n",
            " 26  formatWithoutStopwords        981663 non-null  object\n",
            "dtypes: Int64(5), int64(3), object(5), string(6), uint8(8)\n",
            "memory usage: 162.0+ MB\n"
          ]
        }
      ],
      "source": [
        "df_obs.info()"
      ]
    },
    {
      "cell_type": "code",
      "execution_count": null,
      "metadata": {
        "id": "yRIJ2t6QfG7f",
        "outputId": "e5b50e0e-abf7-4397-91e8-458ba1855ea0"
      },
      "outputs": [
        {
          "data": {
            "text/plain": [
              "Amazon Customer     45802\n",
              "Kindle Customer     31732\n",
              "Avid Reader           769\n",
              "Linda                 742\n",
              "Mary                  733\n",
              "                    ...  \n",
              "Golleee                 1\n",
              "Yellowstone Fan         1\n",
              "B. Nizza                1\n",
              "ANsays                  1\n",
              "Janie C. Watkins        1\n",
              "Name: reviewerName, Length: 429486, dtype: Int64"
            ]
          },
          "execution_count": 137,
          "metadata": {},
          "output_type": "execute_result"
        }
      ],
      "source": [
        "df_obs['reviewerName'].value_counts()"
      ]
    },
    {
      "cell_type": "markdown",
      "metadata": {
        "id": "2TBINIRGfG7f"
      },
      "source": [
        "From the above observations for reviewer names, it can be inferred that most of the reviewers are anonymous and hence assigned the names as 'Amazon Customer' and 'Kindle Customer', with 'Amazon Customer' having highest reviews."
      ]
    },
    {
      "cell_type": "code",
      "execution_count": null,
      "metadata": {
        "id": "ujlnlj4AfG7f",
        "outputId": "b879f0f2-33f1-463e-86d6-67434f12e290"
      },
      "outputs": [
        {
          "data": {
            "text/plain": [
              "1    67.464395\n",
              "0    32.535605\n",
              "Name: verified_True, dtype: float64"
            ]
          },
          "execution_count": 138,
          "metadata": {},
          "output_type": "execute_result"
        }
      ],
      "source": [
        "df_obs['verified_True'].value_counts(normalize=True) * 100"
      ]
    },
    {
      "cell_type": "code",
      "execution_count": null,
      "metadata": {
        "id": "aiphi8O9fG7f",
        "outputId": "1461b318-47ba-4db5-f085-748d72560af6"
      },
      "outputs": [
        {
          "data": {
            "image/png": "[encoded data removed]",
            "text/plain": [
              "<Figure size 432x288 with 1 Axes>"
            ]
          },
          "metadata": {
            "needs_background": "light"
          },
          "output_type": "display_data"
        }
      ],
      "source": [
        "df_obs['verified_True'].value_counts().plot.bar().set_title('Verified Users');"
      ]
    },
    {
      "cell_type": "markdown",
      "metadata": {
        "id": "bLVNKywhfG7g"
      },
      "source": [
        "From the above observations for verified field, it can be seen that 67.46% users are verified, which is significantly higher than the 32.53% of unverified users."
      ]
    },
    {
      "cell_type": "code",
      "execution_count": null,
      "metadata": {
        "id": "8x_MnsKefG7g",
        "outputId": "a3f3f01b-4ee4-43c9-d593-7aedb3f3aa56"
      },
      "outputs": [
        {
          "data": {
            "text/plain": [
              "10     149225\n",
              "11      40025\n",
              "9       37880\n",
              "16      27135\n",
              "14      27100\n",
              "        ...  \n",
              "418         1\n",
              "432         1\n",
              "435         1\n",
              "486         1\n",
              "500         1\n",
              "Name: summaryLength, Length: 260, dtype: Int64"
            ]
          },
          "execution_count": 140,
          "metadata": {},
          "output_type": "execute_result"
        }
      ],
      "source": [
        "df_obs['summaryLength'].value_counts()"
      ]
    },
    {
      "cell_type": "markdown",
      "metadata": {
        "id": "04wsti9LfG7g"
      },
      "source": [
        "The above value distribution for summary lengths shows that in detailed summaries are very low in comparision with one word summaries."
      ]
    },
    {
      "cell_type": "markdown",
      "metadata": {
        "id": "82IT3C_byf9I"
      },
      "source": [
        "###  2. Text normalization and feature engineering"
      ]
    },
    {
      "cell_type": "markdown",
      "metadata": {
        "id": "2NIZxKEoynTc"
      },
      "source": [
        "**1. Create a new column merging review summary and text.**"
      ]
    },
    {
      "cell_type": "code",
      "execution_count": null,
      "metadata": {
        "id": "GNV41Aeoyp4r"
      },
      "outputs": [],
      "source": [
        "df_tn = df\n",
        "df_tn[\"review\"] = df_tn[\"summary\"] + \" \" + df_tn[\"reviewText\"]"
      ]
    },
    {
      "cell_type": "markdown",
      "metadata": {
        "id": "nvskWvBn-mTC"
      },
      "source": [
        "**2. Remove stop words.**"
      ]
    },
    {
      "cell_type": "markdown",
      "source": [
        "Removing stop words from the review column created after merging review summray and text."
      ],
      "metadata": {
        "id": "qIxR-D2QnbQE"
      }
    },
    {
      "cell_type": "code",
      "execution_count": null,
      "metadata": {
        "colab": {
          "base_uri": "https://localhost:8080/",
          "height": 629
        },
        "id": "AR8f91pc-fUR",
        "outputId": "663e554e-be52-4924-961d-6dd26f753d2c"
      },
      "outputs": [
        {
          "data": {
            "text/html": [
              "<div>\n",
              "<style scoped>\n",
              "    .dataframe tbody tr th:only-of-type {\n",
              "        vertical-align: middle;\n",
              "    }\n",
              "\n",
              "    .dataframe tbody tr th {\n",
              "        vertical-align: top;\n",
              "    }\n",
              "\n",
              "    .dataframe thead th {\n",
              "        text-align: right;\n",
              "    }\n",
              "</style>\n",
              "<table border=\"1\" class=\"dataframe\">\n",
              "  <thead>\n",
              "    <tr style=\"text-align: right;\">\n",
              "      <th></th>\n",
              "      <th>overall</th>\n",
              "      <th>reviewTime</th>\n",
              "      <th>reviewerID</th>\n",
              "      <th>asin</th>\n",
              "      <th>reviewerName</th>\n",
              "      <th>reviewText</th>\n",
              "      <th>summary</th>\n",
              "      <th>unixReviewTime</th>\n",
              "      <th>reviewTextLength</th>\n",
              "      <th>reviewerNameLength</th>\n",
              "      <th>...</th>\n",
              "      <th>summaryIsAlNum_True</th>\n",
              "      <th>verified_False</th>\n",
              "      <th>verified_True</th>\n",
              "      <th>format</th>\n",
              "      <th>reviewTextWithoutStopwords</th>\n",
              "      <th>summaryWithoutStopwords</th>\n",
              "      <th>reviewerNameWithoutStopwords</th>\n",
              "      <th>formatWithoutStopwords</th>\n",
              "      <th>review</th>\n",
              "      <th>review_without_stopwords</th>\n",
              "    </tr>\n",
              "  </thead>\n",
              "  <tbody>\n",
              "    <tr>\n",
              "      <th>0</th>\n",
              "      <td>3</td>\n",
              "      <td>05 18, 2002</td>\n",
              "      <td>AJ8AQG2X9JJ2Y</td>\n",
              "      <td>0001712799</td>\n",
              "      <td>Donald Gillies</td>\n",
              "      <td>Dr. Seuss has some really brilliant books.  Th...</td>\n",
              "      <td>A below-average Dr. Seuss Book</td>\n",
              "      <td>1021680000</td>\n",
              "      <td>617</td>\n",
              "      <td>14</td>\n",
              "      <td>...</td>\n",
              "      <td>0</td>\n",
              "      <td>1</td>\n",
              "      <td>0</td>\n",
              "      <td>School &amp; Library Binding</td>\n",
              "      <td>Dr. Seuss really brilliant books. This book ju...</td>\n",
              "      <td>A below-average Dr. Seuss Book</td>\n",
              "      <td>Donald Gillies</td>\n",
              "      <td>School &amp; Library Binding</td>\n",
              "      <td>A below-average Dr. Seuss Book Dr. Seuss has s...</td>\n",
              "      <td>A below-average Dr. Seuss Book Dr. Seuss reall...</td>\n",
              "    </tr>\n",
              "    <tr>\n",
              "      <th>1</th>\n",
              "      <td>5</td>\n",
              "      <td>12 11, 2014</td>\n",
              "      <td>A12Q7B7NT716RV</td>\n",
              "      <td>0001712799</td>\n",
              "      <td>True Value Girl</td>\n",
              "      <td>Love it</td>\n",
              "      <td>Five Stars</td>\n",
              "      <td>1418256000</td>\n",
              "      <td>7</td>\n",
              "      <td>15</td>\n",
              "      <td>...</td>\n",
              "      <td>0</td>\n",
              "      <td>0</td>\n",
              "      <td>1</td>\n",
              "      <td>Hardcover</td>\n",
              "      <td>Love</td>\n",
              "      <td>Five Stars</td>\n",
              "      <td>True Value Girl</td>\n",
              "      <td>Hardcover</td>\n",
              "      <td>Five Stars Love it</td>\n",
              "      <td>Five Stars Love</td>\n",
              "    </tr>\n",
              "    <tr>\n",
              "      <th>2</th>\n",
              "      <td>4</td>\n",
              "      <td>01 6, 2006</td>\n",
              "      <td>A1DK5AZMXS1QA3</td>\n",
              "      <td>0002006448</td>\n",
              "      <td>Newton Ooi</td>\n",
              "      <td>Hand-woven carpets are one of the few products...</td>\n",
              "      <td>Tourism as history</td>\n",
              "      <td>1136505600</td>\n",
              "      <td>1419</td>\n",
              "      <td>10</td>\n",
              "      <td>...</td>\n",
              "      <td>0</td>\n",
              "      <td>1</td>\n",
              "      <td>0</td>\n",
              "      <td>Hardcover</td>\n",
              "      <td>Hand-woven carpets products Central Asia consi...</td>\n",
              "      <td>Tourism history</td>\n",
              "      <td>Newton Ooi</td>\n",
              "      <td>Hardcover</td>\n",
              "      <td>Tourism as history Hand-woven carpets are one ...</td>\n",
              "      <td>Tourism history Hand-woven carpets products Ce...</td>\n",
              "    </tr>\n",
              "    <tr>\n",
              "      <th>3</th>\n",
              "      <td>4</td>\n",
              "      <td>12 8, 2014</td>\n",
              "      <td>A1JMSX54DO3LOP</td>\n",
              "      <td>0002005263</td>\n",
              "      <td>Bookzilla</td>\n",
              "      <td>Compelling, twisting mystery involving several...</td>\n",
              "      <td>Compelling, twisting mystery</td>\n",
              "      <td>1417996800</td>\n",
              "      <td>314</td>\n",
              "      <td>9</td>\n",
              "      <td>...</td>\n",
              "      <td>0</td>\n",
              "      <td>1</td>\n",
              "      <td>0</td>\n",
              "      <td>Kindle Edition</td>\n",
              "      <td>Compelling, twisting mystery involving law ent...</td>\n",
              "      <td>Compelling, twisting mystery</td>\n",
              "      <td>Bookzilla</td>\n",
              "      <td>Kindle Edition</td>\n",
              "      <td>Compelling, twisting mystery Compelling, twist...</td>\n",
              "      <td>Compelling, twisting mystery Compelling, twist...</td>\n",
              "    </tr>\n",
              "    <tr>\n",
              "      <th>4</th>\n",
              "      <td>2</td>\n",
              "      <td>03 3, 2014</td>\n",
              "      <td>A2IP27AZB3D1SM</td>\n",
              "      <td>0002005263</td>\n",
              "      <td>J. A. Drummond</td>\n",
              "      <td>I have read many of the Hillerman books and en...</td>\n",
              "      <td>Tony missed the mark</td>\n",
              "      <td>1393804800</td>\n",
              "      <td>235</td>\n",
              "      <td>14</td>\n",
              "      <td>...</td>\n",
              "      <td>0</td>\n",
              "      <td>0</td>\n",
              "      <td>1</td>\n",
              "      <td>Kindle Edition</td>\n",
              "      <td>I read Hillerman books enjoyed immensely. The ...</td>\n",
              "      <td>Tony missed mark</td>\n",
              "      <td>J. A. Drummond</td>\n",
              "      <td>Kindle Edition</td>\n",
              "      <td>Tony missed the mark I have read many of the H...</td>\n",
              "      <td>Tony missed mark I read Hillerman books enjoye...</td>\n",
              "    </tr>\n",
              "  </tbody>\n",
              "</table>\n",
              "<p>5 rows × 29 columns</p>\n",
              "</div>"
            ],
            "text/plain": [
              "   overall   reviewTime      reviewerID        asin     reviewerName  \\\n",
              "0        3  05 18, 2002   AJ8AQG2X9JJ2Y  0001712799   Donald Gillies   \n",
              "1        5  12 11, 2014  A12Q7B7NT716RV  0001712799  True Value Girl   \n",
              "2        4   01 6, 2006  A1DK5AZMXS1QA3  0002006448       Newton Ooi   \n",
              "3        4   12 8, 2014  A1JMSX54DO3LOP  0002005263        Bookzilla   \n",
              "4        2   03 3, 2014  A2IP27AZB3D1SM  0002005263   J. A. Drummond   \n",
              "\n",
              "                                          reviewText  \\\n",
              "0  Dr. Seuss has some really brilliant books.  Th...   \n",
              "1                                            Love it   \n",
              "2  Hand-woven carpets are one of the few products...   \n",
              "3  Compelling, twisting mystery involving several...   \n",
              "4  I have read many of the Hillerman books and en...   \n",
              "\n",
              "                          summary  unixReviewTime  reviewTextLength  \\\n",
              "0  A below-average Dr. Seuss Book      1021680000               617   \n",
              "1                      Five Stars      1418256000                 7   \n",
              "2              Tourism as history      1136505600              1419   \n",
              "3    Compelling, twisting mystery      1417996800               314   \n",
              "4            Tony missed the mark      1393804800               235   \n",
              "\n",
              "   reviewerNameLength  ...  summaryIsAlNum_True  verified_False  \\\n",
              "0                  14  ...                    0               1   \n",
              "1                  15  ...                    0               0   \n",
              "2                  10  ...                    0               1   \n",
              "3                   9  ...                    0               1   \n",
              "4                  14  ...                    0               0   \n",
              "\n",
              "   verified_True                     format  \\\n",
              "0              0   School & Library Binding   \n",
              "1              1                  Hardcover   \n",
              "2              0                  Hardcover   \n",
              "3              0             Kindle Edition   \n",
              "4              1             Kindle Edition   \n",
              "\n",
              "                          reviewTextWithoutStopwords  \\\n",
              "0  Dr. Seuss really brilliant books. This book ju...   \n",
              "1                                               Love   \n",
              "2  Hand-woven carpets products Central Asia consi...   \n",
              "3  Compelling, twisting mystery involving law ent...   \n",
              "4  I read Hillerman books enjoyed immensely. The ...   \n",
              "\n",
              "          summaryWithoutStopwords  reviewerNameWithoutStopwords  \\\n",
              "0  A below-average Dr. Seuss Book                Donald Gillies   \n",
              "1                      Five Stars               True Value Girl   \n",
              "2                 Tourism history                    Newton Ooi   \n",
              "3    Compelling, twisting mystery                     Bookzilla   \n",
              "4                Tony missed mark                J. A. Drummond   \n",
              "\n",
              "     formatWithoutStopwords  \\\n",
              "0  School & Library Binding   \n",
              "1                 Hardcover   \n",
              "2                 Hardcover   \n",
              "3            Kindle Edition   \n",
              "4            Kindle Edition   \n",
              "\n",
              "                                              review  \\\n",
              "0  A below-average Dr. Seuss Book Dr. Seuss has s...   \n",
              "1                                 Five Stars Love it   \n",
              "2  Tourism as history Hand-woven carpets are one ...   \n",
              "3  Compelling, twisting mystery Compelling, twist...   \n",
              "4  Tony missed the mark I have read many of the H...   \n",
              "\n",
              "                            review_without_stopwords  \n",
              "0  A below-average Dr. Seuss Book Dr. Seuss reall...  \n",
              "1                                    Five Stars Love  \n",
              "2  Tourism history Hand-woven carpets products Ce...  \n",
              "3  Compelling, twisting mystery Compelling, twist...  \n",
              "4  Tony missed mark I read Hillerman books enjoye...  \n",
              "\n",
              "[5 rows x 29 columns]"
            ]
          },
          "execution_count": 142,
          "metadata": {},
          "output_type": "execute_result"
        }
      ],
      "source": [
        "# Code Reference: https://stackoverflow.com/a/43407993/12146592 [7]\n",
        "from sklearn.feature_extraction import text\n",
        "stop = text.ENGLISH_STOP_WORDS\n",
        "df_tn['review_without_stopwords'] = df_tn['review'].apply(lambda x: ' '.join([word for word in x.split() if word not in (stop)]))\n",
        "df_tn.head(5)"
      ]
    },
    {
      "cell_type": "markdown",
      "metadata": {
        "id": "9YArEw07Bl7C"
      },
      "source": [
        "**3. Remove numbers and other non-letter characters**"
      ]
    },
    {
      "cell_type": "markdown",
      "source": [
        "Removing numbers and special characters from the review column."
      ],
      "metadata": {
        "id": "tjFdmdBCnnpv"
      }
    },
    {
      "cell_type": "code",
      "execution_count": null,
      "metadata": {
        "id": "kQygFqCEAECA"
      },
      "outputs": [],
      "source": [
        "df_tn['review_without_stopwords'] = df_tn['review_without_stopwords'].replace('[^a-zA-Z ]', '', regex=True)"
      ]
    },
    {
      "cell_type": "markdown",
      "metadata": {
        "id": "Jbb0eLjwCbUy"
      },
      "source": [
        "**4. Perform either lemmatization or stemming. Motivate your choice.**"
      ]
    },
    {
      "cell_type": "markdown",
      "metadata": {
        "id": "rXLUsbdxiRv6"
      },
      "source": [
        "We have performed **lemmatization** on the processed reviews. We have selected lemmatization because it considers the context of the words during determining words with same root and mapping them, while stemming just simply strips the suffixes from the end of the word <a href='https://dal.brightspace.com/d2l/le/content/221741/viewContent/3070214/View'>[8]</a>. "
      ]
    },
    {
      "cell_type": "markdown",
      "metadata": {
        "id": "kXEX6zINE_d_"
      },
      "source": [
        "Some resources:\n",
        "https://stackoverflow.com/a/71264583/12146592\n",
        "https://www.kaggle.com/code/thrillanalysis/amazon-reviews-analysis/notebook\n",
        "https://github.com/girishkuniyal/Sentiment-Analysis---Amazon-review-dataset\n"
      ]
    },
    {
      "cell_type": "code",
      "execution_count": null,
      "metadata": {
        "colab": {
          "base_uri": "https://localhost:8080/"
        },
        "id": "3OBLKnPgT5ZH",
        "outputId": "d05ef125-eba6-4002-9d1e-435ffd0d3c78"
      },
      "outputs": [
        {
          "name": "stdout",
          "output_type": "stream",
          "text": [
            "Defaulting to user installation because normal site-packages is not writeable\n",
            "Requirement already satisfied: nltk in /local/pkg/python/root-python-3.7/lib/python3.7/site-packages (3.4.5)\n",
            "Requirement already satisfied: six in /local/pkg/python/root-python-3.7/lib/python3.7/site-packages (from nltk) (1.14.0)\n"
          ]
        },
        {
          "name": "stderr",
          "output_type": "stream",
          "text": [
            "[nltk_data] Downloading package wordnet to\n",
            "[nltk_data]     /users/grad/meghnak/nltk_data...\n",
            "[nltk_data]   Package wordnet is already up-to-date!\n"
          ]
        },
        {
          "data": {
            "text/plain": [
              "True"
            ]
          },
          "execution_count": 144,
          "metadata": {},
          "output_type": "execute_result"
        }
      ],
      "source": [
        "!pip install nltk\n",
        "\n",
        "import nltk\n",
        "nltk.download('wordnet')"
      ]
    },
    {
      "cell_type": "code",
      "execution_count": null,
      "metadata": {
        "id": "GdQhSnfEVc3A"
      },
      "outputs": [],
      "source": [
        "# Code Reference: https://github.com/girishkuniyal/Sentiment-Analysis---Amazon-review-dataset/tree/master/4.BOW_lemmatization [9]\n",
        "from nltk.stem import WordNetLemmatizer\n",
        "from nltk.tokenize import word_tokenize\n",
        "\n",
        "lemmatizer = WordNetLemmatizer()"
      ]
    },
    {
      "cell_type": "code",
      "execution_count": null,
      "metadata": {
        "colab": {
          "base_uri": "https://localhost:8080/"
        },
        "id": "h19QQP9TavVj",
        "outputId": "68a00458-402e-4d8a-bfe2-ed466140112e"
      },
      "outputs": [
        {
          "name": "stderr",
          "output_type": "stream",
          "text": [
            "[nltk_data] Downloading package omw-1.4 to\n",
            "[nltk_data]     /users/grad/meghnak/nltk_data...\n",
            "[nltk_data]   Package omw-1.4 is already up-to-date!\n"
          ]
        },
        {
          "data": {
            "text/plain": [
              "True"
            ]
          },
          "execution_count": 146,
          "metadata": {},
          "output_type": "execute_result"
        }
      ],
      "source": [
        "import nltk\n",
        "nltk.download('omw-1.4')"
      ]
    },
    {
      "cell_type": "code",
      "execution_count": null,
      "metadata": {
        "colab": {
          "base_uri": "https://localhost:8080/"
        },
        "id": "GpKDXeK3Xo0w",
        "outputId": "d5f44b0b-22bb-4bf8-aa7c-a2113bd3d39c"
      },
      "outputs": [
        {
          "name": "stderr",
          "output_type": "stream",
          "text": [
            "[nltk_data] Downloading package punkt to\n",
            "[nltk_data]     /users/grad/meghnak/nltk_data...\n",
            "[nltk_data]   Package punkt is already up-to-date!\n"
          ]
        }
      ],
      "source": [
        "nltk.download('punkt')\n",
        "def tokenize_lemmatize(review_data):\n",
        "  X_data = []\n",
        "  for i in range(review_data.shape[0]):\n",
        "      token = word_tokenize(review_data.review_without_stopwords.iloc[i])\n",
        "      for i in range(len(token)):\n",
        "          token[i] = lemmatizer.lemmatize(token[i])\n",
        "      token = ' '.join(token)\n",
        "      X_data.append(token)\n",
        "  return X_data\n",
        " \n",
        "df_tn['lemmatized_review'] = pd.DataFrame(tokenize_lemmatize(df_tn))"
      ]
    },
    {
      "cell_type": "code",
      "execution_count": null,
      "metadata": {
        "colab": {
          "base_uri": "https://localhost:8080/",
          "height": 629
        },
        "id": "iQqk3DNkb7b7",
        "outputId": "3e7865db-96df-43ca-c40c-7a7eb43a6d14"
      },
      "outputs": [
        {
          "data": {
            "text/html": [
              "<div>\n",
              "<style scoped>\n",
              "    .dataframe tbody tr th:only-of-type {\n",
              "        vertical-align: middle;\n",
              "    }\n",
              "\n",
              "    .dataframe tbody tr th {\n",
              "        vertical-align: top;\n",
              "    }\n",
              "\n",
              "    .dataframe thead th {\n",
              "        text-align: right;\n",
              "    }\n",
              "</style>\n",
              "<table border=\"1\" class=\"dataframe\">\n",
              "  <thead>\n",
              "    <tr style=\"text-align: right;\">\n",
              "      <th></th>\n",
              "      <th>overall</th>\n",
              "      <th>reviewTime</th>\n",
              "      <th>reviewerID</th>\n",
              "      <th>asin</th>\n",
              "      <th>reviewerName</th>\n",
              "      <th>reviewText</th>\n",
              "      <th>summary</th>\n",
              "      <th>unixReviewTime</th>\n",
              "      <th>reviewTextLength</th>\n",
              "      <th>reviewerNameLength</th>\n",
              "      <th>...</th>\n",
              "      <th>verified_False</th>\n",
              "      <th>verified_True</th>\n",
              "      <th>format</th>\n",
              "      <th>reviewTextWithoutStopwords</th>\n",
              "      <th>summaryWithoutStopwords</th>\n",
              "      <th>reviewerNameWithoutStopwords</th>\n",
              "      <th>formatWithoutStopwords</th>\n",
              "      <th>review</th>\n",
              "      <th>review_without_stopwords</th>\n",
              "      <th>lemmatized_review</th>\n",
              "    </tr>\n",
              "  </thead>\n",
              "  <tbody>\n",
              "    <tr>\n",
              "      <th>0</th>\n",
              "      <td>3</td>\n",
              "      <td>05 18, 2002</td>\n",
              "      <td>AJ8AQG2X9JJ2Y</td>\n",
              "      <td>0001712799</td>\n",
              "      <td>Donald Gillies</td>\n",
              "      <td>Dr. Seuss has some really brilliant books.  Th...</td>\n",
              "      <td>A below-average Dr. Seuss Book</td>\n",
              "      <td>1021680000</td>\n",
              "      <td>617</td>\n",
              "      <td>14</td>\n",
              "      <td>...</td>\n",
              "      <td>1</td>\n",
              "      <td>0</td>\n",
              "      <td>School &amp; Library Binding</td>\n",
              "      <td>Dr. Seuss really brilliant books. This book ju...</td>\n",
              "      <td>A below-average Dr. Seuss Book</td>\n",
              "      <td>Donald Gillies</td>\n",
              "      <td>School &amp; Library Binding</td>\n",
              "      <td>A below-average Dr. Seuss Book Dr. Seuss has s...</td>\n",
              "      <td>A belowaverage Dr Seuss Book Dr Seuss really b...</td>\n",
              "      <td>A belowaverage Dr Seuss Book Dr Seuss really b...</td>\n",
              "    </tr>\n",
              "    <tr>\n",
              "      <th>1</th>\n",
              "      <td>5</td>\n",
              "      <td>12 11, 2014</td>\n",
              "      <td>A12Q7B7NT716RV</td>\n",
              "      <td>0001712799</td>\n",
              "      <td>True Value Girl</td>\n",
              "      <td>Love it</td>\n",
              "      <td>Five Stars</td>\n",
              "      <td>1418256000</td>\n",
              "      <td>7</td>\n",
              "      <td>15</td>\n",
              "      <td>...</td>\n",
              "      <td>0</td>\n",
              "      <td>1</td>\n",
              "      <td>Hardcover</td>\n",
              "      <td>Love</td>\n",
              "      <td>Five Stars</td>\n",
              "      <td>True Value Girl</td>\n",
              "      <td>Hardcover</td>\n",
              "      <td>Five Stars Love it</td>\n",
              "      <td>Five Stars Love</td>\n",
              "      <td>Five Stars Love</td>\n",
              "    </tr>\n",
              "    <tr>\n",
              "      <th>2</th>\n",
              "      <td>4</td>\n",
              "      <td>01 6, 2006</td>\n",
              "      <td>A1DK5AZMXS1QA3</td>\n",
              "      <td>0002006448</td>\n",
              "      <td>Newton Ooi</td>\n",
              "      <td>Hand-woven carpets are one of the few products...</td>\n",
              "      <td>Tourism as history</td>\n",
              "      <td>1136505600</td>\n",
              "      <td>1419</td>\n",
              "      <td>10</td>\n",
              "      <td>...</td>\n",
              "      <td>1</td>\n",
              "      <td>0</td>\n",
              "      <td>Hardcover</td>\n",
              "      <td>Hand-woven carpets products Central Asia consi...</td>\n",
              "      <td>Tourism history</td>\n",
              "      <td>Newton Ooi</td>\n",
              "      <td>Hardcover</td>\n",
              "      <td>Tourism as history Hand-woven carpets are one ...</td>\n",
              "      <td>Tourism history Handwoven carpets products Cen...</td>\n",
              "      <td>Tourism history Handwoven carpet product Centr...</td>\n",
              "    </tr>\n",
              "    <tr>\n",
              "      <th>3</th>\n",
              "      <td>4</td>\n",
              "      <td>12 8, 2014</td>\n",
              "      <td>A1JMSX54DO3LOP</td>\n",
              "      <td>0002005263</td>\n",
              "      <td>Bookzilla</td>\n",
              "      <td>Compelling, twisting mystery involving several...</td>\n",
              "      <td>Compelling, twisting mystery</td>\n",
              "      <td>1417996800</td>\n",
              "      <td>314</td>\n",
              "      <td>9</td>\n",
              "      <td>...</td>\n",
              "      <td>1</td>\n",
              "      <td>0</td>\n",
              "      <td>Kindle Edition</td>\n",
              "      <td>Compelling, twisting mystery involving law ent...</td>\n",
              "      <td>Compelling, twisting mystery</td>\n",
              "      <td>Bookzilla</td>\n",
              "      <td>Kindle Edition</td>\n",
              "      <td>Compelling, twisting mystery Compelling, twist...</td>\n",
              "      <td>Compelling twisting mystery Compelling twistin...</td>\n",
              "      <td>Compelling twisting mystery Compelling twistin...</td>\n",
              "    </tr>\n",
              "    <tr>\n",
              "      <th>4</th>\n",
              "      <td>2</td>\n",
              "      <td>03 3, 2014</td>\n",
              "      <td>A2IP27AZB3D1SM</td>\n",
              "      <td>0002005263</td>\n",
              "      <td>J. A. Drummond</td>\n",
              "      <td>I have read many of the Hillerman books and en...</td>\n",
              "      <td>Tony missed the mark</td>\n",
              "      <td>1393804800</td>\n",
              "      <td>235</td>\n",
              "      <td>14</td>\n",
              "      <td>...</td>\n",
              "      <td>0</td>\n",
              "      <td>1</td>\n",
              "      <td>Kindle Edition</td>\n",
              "      <td>I read Hillerman books enjoyed immensely. The ...</td>\n",
              "      <td>Tony missed mark</td>\n",
              "      <td>J. A. Drummond</td>\n",
              "      <td>Kindle Edition</td>\n",
              "      <td>Tony missed the mark I have read many of the H...</td>\n",
              "      <td>Tony missed mark I read Hillerman books enjoye...</td>\n",
              "      <td>Tony missed mark I read Hillerman book enjoyed...</td>\n",
              "    </tr>\n",
              "  </tbody>\n",
              "</table>\n",
              "<p>5 rows × 30 columns</p>\n",
              "</div>"
            ],
            "text/plain": [
              "   overall   reviewTime      reviewerID        asin     reviewerName  \\\n",
              "0        3  05 18, 2002   AJ8AQG2X9JJ2Y  0001712799   Donald Gillies   \n",
              "1        5  12 11, 2014  A12Q7B7NT716RV  0001712799  True Value Girl   \n",
              "2        4   01 6, 2006  A1DK5AZMXS1QA3  0002006448       Newton Ooi   \n",
              "3        4   12 8, 2014  A1JMSX54DO3LOP  0002005263        Bookzilla   \n",
              "4        2   03 3, 2014  A2IP27AZB3D1SM  0002005263   J. A. Drummond   \n",
              "\n",
              "                                          reviewText  \\\n",
              "0  Dr. Seuss has some really brilliant books.  Th...   \n",
              "1                                            Love it   \n",
              "2  Hand-woven carpets are one of the few products...   \n",
              "3  Compelling, twisting mystery involving several...   \n",
              "4  I have read many of the Hillerman books and en...   \n",
              "\n",
              "                          summary  unixReviewTime  reviewTextLength  \\\n",
              "0  A below-average Dr. Seuss Book      1021680000               617   \n",
              "1                      Five Stars      1418256000                 7   \n",
              "2              Tourism as history      1136505600              1419   \n",
              "3    Compelling, twisting mystery      1417996800               314   \n",
              "4            Tony missed the mark      1393804800               235   \n",
              "\n",
              "   reviewerNameLength  ...  verified_False  verified_True  \\\n",
              "0                  14  ...               1              0   \n",
              "1                  15  ...               0              1   \n",
              "2                  10  ...               1              0   \n",
              "3                   9  ...               1              0   \n",
              "4                  14  ...               0              1   \n",
              "\n",
              "                      format  \\\n",
              "0   School & Library Binding   \n",
              "1                  Hardcover   \n",
              "2                  Hardcover   \n",
              "3             Kindle Edition   \n",
              "4             Kindle Edition   \n",
              "\n",
              "                          reviewTextWithoutStopwords  \\\n",
              "0  Dr. Seuss really brilliant books. This book ju...   \n",
              "1                                               Love   \n",
              "2  Hand-woven carpets products Central Asia consi...   \n",
              "3  Compelling, twisting mystery involving law ent...   \n",
              "4  I read Hillerman books enjoyed immensely. The ...   \n",
              "\n",
              "          summaryWithoutStopwords  reviewerNameWithoutStopwords  \\\n",
              "0  A below-average Dr. Seuss Book                Donald Gillies   \n",
              "1                      Five Stars               True Value Girl   \n",
              "2                 Tourism history                    Newton Ooi   \n",
              "3    Compelling, twisting mystery                     Bookzilla   \n",
              "4                Tony missed mark                J. A. Drummond   \n",
              "\n",
              "     formatWithoutStopwords  \\\n",
              "0  School & Library Binding   \n",
              "1                 Hardcover   \n",
              "2                 Hardcover   \n",
              "3            Kindle Edition   \n",
              "4            Kindle Edition   \n",
              "\n",
              "                                              review  \\\n",
              "0  A below-average Dr. Seuss Book Dr. Seuss has s...   \n",
              "1                                 Five Stars Love it   \n",
              "2  Tourism as history Hand-woven carpets are one ...   \n",
              "3  Compelling, twisting mystery Compelling, twist...   \n",
              "4  Tony missed the mark I have read many of the H...   \n",
              "\n",
              "                            review_without_stopwords  \\\n",
              "0  A belowaverage Dr Seuss Book Dr Seuss really b...   \n",
              "1                                    Five Stars Love   \n",
              "2  Tourism history Handwoven carpets products Cen...   \n",
              "3  Compelling twisting mystery Compelling twistin...   \n",
              "4  Tony missed mark I read Hillerman books enjoye...   \n",
              "\n",
              "                                   lemmatized_review  \n",
              "0  A belowaverage Dr Seuss Book Dr Seuss really b...  \n",
              "1                                    Five Stars Love  \n",
              "2  Tourism history Handwoven carpet product Centr...  \n",
              "3  Compelling twisting mystery Compelling twistin...  \n",
              "4  Tony missed mark I read Hillerman book enjoyed...  \n",
              "\n",
              "[5 rows x 30 columns]"
            ]
          },
          "execution_count": 148,
          "metadata": {},
          "output_type": "execute_result"
        }
      ],
      "source": [
        "df_tn.head(5)"
      ]
    },
    {
      "cell_type": "markdown",
      "metadata": {
        "id": "l24ZqCmUjVTr"
      },
      "source": [
        "**5.  Convert the corpus into a bag-of-words TF-IDF weighted vector representation.**"
      ]
    },
    {
      "cell_type": "code",
      "execution_count": null,
      "metadata": {
        "id": "LMmuHScttAQr"
      },
      "outputs": [],
      "source": [
        "df_tn = df_tn.dropna()"
      ]
    },
    {
      "cell_type": "markdown",
      "source": [
        "In the bag-of-words a text is represented as the bag (multiset) of its words, disregarding grammar and even word order but keeping multiplicity <a href='https://medium.com/analytics-vidhya/fundamentals-of-bag-of-words-and-tf-idf-9846d301ff22'>[10]</a>."
      ],
      "metadata": {
        "id": "cBvpJJkbqFwz"
      }
    },
    {
      "cell_type": "code",
      "execution_count": null,
      "metadata": {
        "id": "bqz4BeNGe6O-"
      },
      "outputs": [],
      "source": [
        "# Code Reference: https://medium.com/analytics-vidhya/fundamentals-of-bag-of-words-and-tf-idf-9846d301ff22 [10]\n",
        "from sklearn.feature_extraction.text import CountVectorizer\n",
        "vectorize = CountVectorizer()\n",
        "text_bow = vectorize.fit_transform(df_tn['lemmatized_review'])\n"
      ]
    },
    {
      "cell_type": "markdown",
      "source": [
        "TFIDF (term frequency-inverse document frequency), is a numerical statistic that is intended to reflect how important a word is to a document in a collection or corpus.The tf–idf value increases proportionally to the number of times a word appears in the document and is offset by the number of documents in the corpus that contain the word, which helps to adjust for the fact that some words appear more frequently in general <a href='https://medium.com/analytics-vidhya/fundamentals-of-bag-of-words-and-tf-idf-9846d301ff22'>[10]</a>."
      ],
      "metadata": {
        "id": "viH1knRuqRz1"
      }
    },
    {
      "cell_type": "code",
      "execution_count": null,
      "metadata": {
        "id": "eIH0zxXqjYUe"
      },
      "outputs": [],
      "source": [
        "# Code Reference: https://medium.com/analytics-vidhya/fundamentals-of-bag-of-words-and-tf-idf-9846d301ff22 [10]\n",
        "from sklearn.feature_extraction.text import TfidfVectorizer\n",
        "vectorizer = TfidfVectorizer()\n",
        "text_tfidf = vectorizer.fit_transform(df_tn['lemmatized_review'])"
      ]
    },
    {
      "cell_type": "code",
      "execution_count": null,
      "metadata": {
        "colab": {
          "base_uri": "https://localhost:8080/"
        },
        "id": "qXkQ8pXQj7_H",
        "outputId": "0e530f2a-f444-4466-830a-94bab81dda8b"
      },
      "outputs": [
        {
          "name": "stdout",
          "output_type": "stream",
          "text": [
            "(964504, 566361)\n"
          ]
        }
      ],
      "source": [
        "print(text_bow.shape)"
      ]
    },
    {
      "cell_type": "code",
      "execution_count": null,
      "metadata": {
        "colab": {
          "base_uri": "https://localhost:8080/"
        },
        "id": "gU45qAk0kB88",
        "outputId": "f622ab27-364f-4827-8a4a-5d1b47a8f7e2"
      },
      "outputs": [
        {
          "name": "stdout",
          "output_type": "stream",
          "text": [
            "(964504, 566361)\n"
          ]
        }
      ],
      "source": [
        "print(text_tfidf.shape)"
      ]
    },
    {
      "cell_type": "markdown",
      "metadata": {
        "id": "7dWKw_y3-Aee"
      },
      "source": [
        "### 3. Build a model to predict overall score"
      ]
    },
    {
      "cell_type": "markdown",
      "metadata": {
        "id": "z8Izea_o-JO-"
      },
      "source": [
        "**1. Use score as the target variable. Explain what is the task you’re solving**"
      ]
    },
    {
      "cell_type": "markdown",
      "metadata": {
        "id": "gx_H5YCX_LeS"
      },
      "source": [
        "The task that is being solved is Supervised Classification because the target feature that needs to be predicted - 'score' is a feature is a discrete value which only has five possible values ranging from 0 to 5 and supervised classification is used to predict/classify discrete values."
      ]
    },
    {
      "cell_type": "markdown",
      "metadata": {
        "id": "z_ADa6Zf_OPo"
      },
      "source": [
        "**2. Use a feature selection method to select the features to build a model.**"
      ]
    },
    {
      "cell_type": "code",
      "execution_count": null,
      "metadata": {
        "id": "mUChLXtQfG7j"
      },
      "outputs": [],
      "source": [
        "df_test = df_tn"
      ]
    },
    {
      "cell_type": "code",
      "execution_count": null,
      "metadata": {
        "id": "ZKz9uN4ZfG7j"
      },
      "outputs": [],
      "source": [
        "df_test = df_test.dropna()"
      ]
    },
    {
      "cell_type": "code",
      "execution_count": null,
      "metadata": {
        "colab": {
          "base_uri": "https://localhost:8080/",
          "height": 747
        },
        "id": "aheTZ6Li_vuj",
        "outputId": "cebfb0dd-67a8-48af-bd8a-93b5871ff563"
      },
      "outputs": [
        {
          "data": {
            "text/plain": [
              "<matplotlib.axes._subplots.AxesSubplot at 0x7f2619277b50>"
            ]
          },
          "execution_count": 157,
          "metadata": {},
          "output_type": "execute_result"
        },
        {
          "data": {
            "image/png": "[encoded data removed]",
            "text/plain": [
              "<Figure size 720x720 with 2 Axes>"
            ]
          },
          "metadata": {
            "needs_background": "light"
          },
          "output_type": "display_data"
        }
      ],
      "source": [
        "plt.figure(figsize=(10,10))\n",
        "sns.heatmap(df_test.corr(),annot=True, cmap=plt.cm.Reds)"
      ]
    },
    {
      "cell_type": "markdown",
      "metadata": {
        "id": "lo9qOcqMfG7j"
      },
      "source": [
        "From the above correlation heatmap of the dataset it can be observed that -\n",
        "* 'overall score' has a positive correlation with most of the values\n",
        "* 'overall score has a negative correlation with summaryIsAlNum_True, reviewerNameIAlNum_True, and reviewTextLength"
      ]
    },
    {
      "cell_type": "markdown",
      "metadata": {
        "id": "F0OAmwmQfG7j"
      },
      "source": [
        "Features selected on following assumptions\n",
        "* Our target feature is 'overall' which indicates the score\n",
        "* Since it is the score of the review the most important feature would be the provided review.\n",
        "* In the above section a single column has been created using reviewText and summary which has all the stopwords removed and has been further lemmatized.\n",
        "* Our other feature would be lemmatized_review\n",
        "* Rest of the features like verified, format or reviewerName are not going to help in predicting overall score hence the can be left."
      ]
    },
    {
      "cell_type": "code",
      "execution_count": null,
      "metadata": {
        "id": "ezaaep7iBGqv"
      },
      "outputs": [],
      "source": [
        "y = df_test['overall']\n",
        "X= df_test['lemmatized_review']"
      ]
    },
    {
      "cell_type": "markdown",
      "metadata": {
        "id": "P0n6CVsyA-V3"
      },
      "source": [
        "Splitting the dataset into test train with a ratio of 80 and 20"
      ]
    },
    {
      "cell_type": "code",
      "execution_count": null,
      "metadata": {
        "id": "__eGV_b2BARC"
      },
      "outputs": [],
      "source": [
        "X_train, X_test, y_train, y_test = train_test_split(X, y, \n",
        "                                                    test_size=0.2,\n",
        "                                                   random_state=23)"
      ]
    },
    {
      "cell_type": "markdown",
      "metadata": {
        "id": "P6EwhHX6AUQB"
      },
      "source": [
        "**3. Select the evaluation metric/metrics. Justify your choice.**"
      ]
    },
    {
      "cell_type": "markdown",
      "metadata": {
        "id": "nInPaES1fG7k"
      },
      "source": [
        "We have selected Confusion Matrix as the evaluation metric as the model that is being built is a classification model and to evaluate the performance of the model we need a metric that evaluates the precision of the predicted values with the actual values. We'll use the components of the confusion matrix to evaluate the model <a href='https://dal.brightspace.com/d2l/lms/dropbox/user/folders_history.d2l?db=151136&grpid=227532&isprv=0&bp=0&ou=221741'>[11]</a>.\n",
        "\n",
        "A confusion matrix is a n x n matrix (where n is the number of labels) used to describe the performance of a classification model. Each row in the confusion matrix represents an actual class whereas each column represents a predicted class. <a href='https://www.analyticsvidhya.com/blog/2021/12/evaluation-of-classification-model/'>[12]</a>\n",
        "\n",
        "* Precision - How many are actually true from all the predicted outputs\n",
        "* Recall - How many were retrieved by the model from all the actual Positive cases\n",
        "* F1 score - F1 score is a hybrid of precision and recall, which provides the Harmonic mean of Precision and Recall"
      ]
    },
    {
      "cell_type": "markdown",
      "source": [
        "**4. Perform hyperparameter tuning if applicable.**\n",
        "\n",
        "Model can be trained without hyperparameter tuning."
      ],
      "metadata": {
        "id": "5OXvK9961LkY"
      }
    },
    {
      "cell_type": "markdown",
      "metadata": {
        "id": "wBSiGeJUAZfK"
      },
      "source": [
        "**5. Train and evaluate your model.**"
      ]
    },
    {
      "cell_type": "code",
      "execution_count": null,
      "metadata": {
        "id": "jCeWfpmoeQBv"
      },
      "outputs": [],
      "source": [
        "y_train=y_train.astype('int')"
      ]
    },
    {
      "cell_type": "code",
      "execution_count": null,
      "metadata": {
        "id": "t5h4GRc2Bf2E"
      },
      "outputs": [],
      "source": [
        "# Code Reference: https://scikit-learn.org/stable/modules/generated/sklearn.naive_bayes.MultinomialNB.html [13]\n",
        "# Code Reference: https://dal.brightspace.com/d2l/le/content/221741/viewContent/3070214/View [8]\n",
        "from sklearn.naive_bayes import MultinomialNB\n",
        "from sklearn.pipeline import Pipeline\n",
        "from sklearn.feature_extraction.text import TfidfVectorizer\n",
        "clf=Pipeline([\n",
        "    ('tfidf', TfidfVectorizer()),\n",
        "    ('classifier', MultinomialNB()),\n",
        "])\n",
        "clf_trained = clf.fit(X_train, y_train)"
      ]
    },
    {
      "cell_type": "code",
      "execution_count": null,
      "metadata": {
        "id": "nACWkbGyB8XT"
      },
      "outputs": [],
      "source": [
        "y_train_pred=clf_trained.predict(X_train)"
      ]
    },
    {
      "cell_type": "code",
      "execution_count": null,
      "metadata": {
        "id": "1UOyIq96CDUY"
      },
      "outputs": [],
      "source": [
        "y_pred=clf_trained.predict(X_test)"
      ]
    },
    {
      "cell_type": "code",
      "execution_count": null,
      "metadata": {
        "colab": {
          "base_uri": "https://localhost:8080/"
        },
        "id": "5LznRHFhCKgY",
        "outputId": "e3ffaaf2-7d22-40d9-8c0d-b6695044bc65"
      },
      "outputs": [
        {
          "name": "stdout",
          "output_type": "stream",
          "text": [
            "[[     2      0      1     12  23424]\n",
            " [     0      6      1     15  28750]\n",
            " [     0      0     31     20  68052]\n",
            " [     0      2      6    583 167328]\n",
            " [     2     11     46     80 483231]]\n",
            "              precision    recall  f1-score   support\n",
            "\n",
            "           1       0.50      0.00      0.00     23439\n",
            "           2       0.32      0.00      0.00     28772\n",
            "           3       0.36      0.00      0.00     68103\n",
            "           4       0.82      0.00      0.01    167919\n",
            "           5       0.63      1.00      0.77    483370\n",
            "\n",
            "    accuracy                           0.63    771603\n",
            "   macro avg       0.53      0.20      0.16    771603\n",
            "weighted avg       0.63      0.63      0.48    771603\n",
            "\n"
          ]
        }
      ],
      "source": [
        "print(confusion_matrix(y_train,y_train_pred))\n",
        "print(classification_report(y_train,y_train_pred))"
      ]
    },
    {
      "cell_type": "code",
      "execution_count": null,
      "metadata": {
        "id": "aHzRsEece3dj"
      },
      "outputs": [],
      "source": [
        "y_test=y_test.astype('int')"
      ]
    },
    {
      "cell_type": "code",
      "execution_count": null,
      "metadata": {
        "colab": {
          "base_uri": "https://localhost:8080/"
        },
        "id": "AaEp3qomCTrH",
        "outputId": "bcac4a9c-6b60-456a-b238-b1d1c2ebe3f6"
      },
      "outputs": [
        {
          "name": "stdout",
          "output_type": "stream",
          "text": [
            "[[     0      0      0      1   5917]\n",
            " [     0      0      0      0   7263]\n",
            " [     0      0      0      3  16984]\n",
            " [     0      0      2      7  42143]\n",
            " [     0      1      0     18 120562]]\n",
            "              precision    recall  f1-score   support\n",
            "\n",
            "           1       0.00      0.00      0.00      5918\n",
            "           2       0.00      0.00      0.00      7263\n",
            "           3       0.00      0.00      0.00     16987\n",
            "           4       0.24      0.00      0.00     42152\n",
            "           5       0.63      1.00      0.77    120581\n",
            "\n",
            "    accuracy                           0.63    192901\n",
            "   macro avg       0.17      0.20      0.15    192901\n",
            "weighted avg       0.44      0.63      0.48    192901\n",
            "\n"
          ]
        }
      ],
      "source": [
        "print(confusion_matrix(y_test,y_pred))\n",
        "print(classification_report(y_test,y_pred))"
      ]
    },
    {
      "cell_type": "markdown",
      "metadata": {
        "id": "0Rt_QzZKfG7l"
      },
      "source": [
        "**6. How do you make sure not to overfit?**"
      ]
    },
    {
      "cell_type": "markdown",
      "metadata": {
        "id": "7aptGjnFfG7l"
      },
      "source": [
        "> Overfitting happens when a model learns the detail and noise in the training data to the extent that it negatively impacts the performance of the model on new data <a href='https://machinelearningmastery.com/overfitting-and-underfitting-with-machine-learning-algorithms'>[14]</a>. \n",
        "\n",
        "> For our scenario, the accuracy of model on training is 63% and on test data it is 63%. Since the difference between the accuracy of the model is same, it can be concluded that the model is not overfitting.\n",
        "\n",
        "> In general, to avoid overfitting of a model, a hyperparameter tuning can be performed on the model or less/more number of features can be used <a href='https://dal.brightspace.com/d2l/lms/dropbox/user/folders_history.d2l?db=151136&grpid=227532&isprv=0&bp=0&ou=221741'>[11]</a>."
      ]
    },
    {
      "cell_type": "markdown",
      "metadata": {
        "id": "DDE-aCPmfG7l"
      },
      "source": [
        "**7. Plot a visualization of the learning process or the learned information of the\n",
        "model**"
      ]
    },
    {
      "cell_type": "code",
      "execution_count": null,
      "metadata": {
        "id": "xpDQirMRfG7l",
        "outputId": "15ef0d43-86db-4fe7-f777-0165bd84898b"
      },
      "outputs": [
        {
          "data": {
            "text/plain": [
              "<matplotlib.legend.Legend at 0x7f290fad3590>"
            ]
          },
          "execution_count": 167,
          "metadata": {},
          "output_type": "execute_result"
        },
        {
          "data": {
            "image/png": "[encoded data removed]",
            "text/plain": [
              "<Figure size 432x288 with 1 Axes>"
            ]
          },
          "metadata": {
            "needs_background": "light"
          },
          "output_type": "display_data"
        }
      ],
      "source": [
        "plt.title(\"Learning Curves for Multinomial NB Classifier\", fontsize=16)\n",
        "train_sizes, train_score, test_score, fit_times, _ = learning_curve(clf_trained, X_train, y_train,cv=10, return_times=True)\n",
        "plt.xlabel(\"Training Data size\")\n",
        "plt.ylabel(\"Model accuracy\")\n",
        "plt.plot(train_sizes,np.mean(train_score,axis=1), label = 'Training Accuracy')\n",
        "plt.plot(train_sizes, np.mean(test_score, axis=1),label = 'Cross-validation score')\n",
        "plt.legend(loc='upper right')"
      ]
    },
    {
      "cell_type": "markdown",
      "metadata": {
        "id": "Nw8mpGHmfG7l"
      },
      "source": [
        "> A learning curve shows the validation and training score of an estimator for varying numbers of training samples. It is a tool to find out how much we benefit from adding more training data and whether the estimator suffers more from a variance error or a bias error <a href='https://stackoverflow.com/a/67014482'>[15]</a>.\n",
        "\n",
        "> From the Learning Curve graph for MultinomialNB Classifier above, it can be observed that the curves for the Training Accuracy and Cross-Validation are intersecting at about approximately 260000 values. The cross validation score is consistent across the training dataset while there is a sudden increase in the Training Accuracy of the model post ~220000 training data size."
      ]
    },
    {
      "cell_type": "markdown",
      "metadata": {
        "id": "2yRmNxnDfG7l"
      },
      "source": [
        "**Analyze the results.**"
      ]
    },
    {
      "cell_type": "markdown",
      "metadata": {
        "id": "utJpGLiqfG7l"
      },
      "source": [
        "> Train results for MultinomialNB Classifier:\n",
        "\n",
        "* The precision result is highest for target value 4 - 0.82 while lowest for  2 target value 0.32\n",
        "* The recall results are observed to be 1.00 for 5 target value while for all others it is 0.0\n",
        "* The accuracy for the train dataset is 63%.\n",
        "\n",
        "> Test results for MultinomialNB Classifier:\n",
        "\n",
        "* The precision results for 4 and 5 target value are 0.24 and 0.63 respectively while for all others it is 0.0.\n",
        "* The recall results are observed to be 1.00 for 5 target value while for all others it is 0.0\n",
        "* The accuracy for the test dataset is 63%.\n",
        "\n",
        "> From the accuracy scores for both datasets train and test, it can be concluded that the model has a decent and consistent performance."
      ]
    },
    {
      "cell_type": "markdown",
      "metadata": {
        "id": "LjB4_y3zA8iu"
      },
      "source": [
        "### 4. Perform part-of-speech tagging"
      ]
    },
    {
      "cell_type": "markdown",
      "metadata": {
        "id": "IfUFjcr6G-Ef"
      },
      "source": [
        "**1. Perform part-of-speech tagging on the raw data (i.e. prior to Q2), and/or after\n",
        "processing (after Q2), and extract the nouns only to obtain a bag-of-words tf-idf\n",
        "weighted vector. representation using only the nouns.**"
      ]
    },
    {
      "cell_type": "code",
      "execution_count": null,
      "metadata": {
        "colab": {
          "base_uri": "https://localhost:8080/"
        },
        "id": "Yb7IV7xjG7cH",
        "outputId": "80c43927-5a4c-4f62-c0fe-ef5d5fa3e763"
      },
      "outputs": [
        {
          "name": "stderr",
          "output_type": "stream",
          "text": [
            "[nltk_data] Downloading package averaged_perceptron_tagger to\n",
            "[nltk_data]     /users/grad/meghnak/nltk_data...\n",
            "[nltk_data]   Package averaged_perceptron_tagger is already up-to-\n",
            "[nltk_data]       date!\n"
          ]
        }
      ],
      "source": [
        "nltk.download('averaged_perceptron_tagger')\n",
        "from nltk import word_tokenize, pos_tag, pos_tag_sents"
      ]
    },
    {
      "cell_type": "markdown",
      "source": [
        "Performing part-of-speech tagging on data after processing (after Q2), i.e., lemmatized review."
      ],
      "metadata": {
        "id": "mqOx86d0A4Me"
      }
    },
    {
      "cell_type": "code",
      "execution_count": null,
      "metadata": {
        "id": "7gj3SqZWzn32",
        "outputId": "81d2a214-cc29-439b-9e53-4eb40ab411d9"
      },
      "outputs": [
        {
          "name": "stderr",
          "output_type": "stream",
          "text": [
            "/local/pkg/python/root-python-3.7/lib/python3.7/site-packages/ipykernel_launcher.py:2: SettingWithCopyWarning: \n",
            "A value is trying to be set on a copy of a slice from a DataFrame.\n",
            "Try using .loc[row_indexer,col_indexer] = value instead\n",
            "\n",
            "See the caveats in the documentation: https://pandas.pydata.org/pandas-docs/stable/user_guide/indexing.html#returning-a-view-versus-a-copy\n",
            "  \n"
          ]
        }
      ],
      "source": [
        "# Code Reference: https://stackoverflow.com/a/42081746 [16]\n",
        "df_tn['review_pos'] = pos_tag_sents(df_tn['lemmatized_review'].apply(word_tokenize).tolist())"
      ]
    },
    {
      "cell_type": "markdown",
      "metadata": {
        "id": "N_m2dZ12fG7m"
      },
      "source": [
        "\n",
        "* Storing the target and feature variables.\n",
        "* Further processing the review_pos feature for only extracting the noun words.\n",
        "* The words that have tag values starting from N are noun values"
      ]
    },
    {
      "cell_type": "code",
      "execution_count": null,
      "metadata": {
        "id": "JgnZ5QWffG7m"
      },
      "outputs": [],
      "source": [
        "y_pos = df_tn['overall']\n",
        "X_pos= df_tn['review_pos']\n",
        "# Code Reference: https://stackoverflow.com/a/24410428 [17]\n",
        "X_pos = [\" \".join([word for word, tag in sent if tag.startswith('N')]) for sent in X_pos]"
      ]
    },
    {
      "cell_type": "code",
      "execution_count": null,
      "metadata": {
        "id": "0pmbepDgfG7m"
      },
      "outputs": [],
      "source": [
        "X_pos = pd.Series(X_pos)"
      ]
    },
    {
      "cell_type": "code",
      "execution_count": null,
      "metadata": {
        "id": "ST2lkGrJfG7n"
      },
      "outputs": [],
      "source": [
        "X_pos_train, X_pos_test, y_pos_train, y_pos_test = train_test_split(X_pos, y_pos, \n",
        "                                                    test_size=0.2,\n",
        "                                                   random_state=23)"
      ]
    },
    {
      "cell_type": "code",
      "execution_count": null,
      "metadata": {
        "id": "NpNNEmVufG7n"
      },
      "outputs": [],
      "source": [
        "y_pos_train=y_pos_train.astype('int')"
      ]
    },
    {
      "cell_type": "code",
      "execution_count": null,
      "metadata": {
        "id": "j1d1JDRcfG7n"
      },
      "outputs": [],
      "source": [
        "# Code Reference: https://scikit-learn.org/stable/modules/generated/sklearn.naive_bayes.MultinomialNB.html [13]\n",
        "# Code Reference: https://dal.brightspace.com/d2l/le/content/221741/viewContent/3070214/View [8]\n",
        "from sklearn.naive_bayes import MultinomialNB\n",
        "from sklearn.pipeline import Pipeline\n",
        "from sklearn.feature_extraction.text import TfidfVectorizer\n",
        "clf_pos=Pipeline([\n",
        "    ('tfidf', TfidfVectorizer()),\n",
        "    ('classifier', MultinomialNB()),\n",
        "])\n",
        "clf_pos_trained = clf_pos.fit(X_pos_train, y_pos_train)"
      ]
    },
    {
      "cell_type": "code",
      "execution_count": null,
      "metadata": {
        "id": "tN6Oskk5fG7n"
      },
      "outputs": [],
      "source": [
        "y_pos_train_pred=clf_pos_trained.predict(X_pos_train)"
      ]
    },
    {
      "cell_type": "code",
      "execution_count": null,
      "metadata": {
        "id": "QEuSp_uMfG7n"
      },
      "outputs": [],
      "source": [
        "y_pos_pred=clf_pos_trained.predict(X_pos_test)"
      ]
    },
    {
      "cell_type": "code",
      "execution_count": null,
      "metadata": {
        "id": "g5hLfPE_fG7n",
        "outputId": "f1b9966f-df7f-4d80-a279-bc944d0f1219"
      },
      "outputs": [
        {
          "name": "stdout",
          "output_type": "stream",
          "text": [
            "[[     4      0      0     20  23415]\n",
            " [     0      8      1     22  28741]\n",
            " [     0      0     39     37  68027]\n",
            " [     0      2      2   1164 166751]\n",
            " [     2      5     38     68 483257]]\n",
            "              precision    recall  f1-score   support\n",
            "\n",
            "           1       0.67      0.00      0.00     23439\n",
            "           2       0.53      0.00      0.00     28772\n",
            "           3       0.49      0.00      0.00     68103\n",
            "           4       0.89      0.01      0.01    167919\n",
            "           5       0.63      1.00      0.77    483370\n",
            "\n",
            "    accuracy                           0.63    771603\n",
            "   macro avg       0.64      0.20      0.16    771603\n",
            "weighted avg       0.67      0.63      0.49    771603\n",
            "\n"
          ]
        }
      ],
      "source": [
        "print(confusion_matrix(y_pos_train,y_pos_train_pred))\n",
        "print(classification_report(y_pos_train,y_pos_train_pred))"
      ]
    },
    {
      "cell_type": "code",
      "execution_count": null,
      "metadata": {
        "id": "8zBe0lnFfG7n"
      },
      "outputs": [],
      "source": [
        "y_pos_test=y_pos_test.astype('int')"
      ]
    },
    {
      "cell_type": "code",
      "execution_count": null,
      "metadata": {
        "id": "feTOB95wfG7n",
        "outputId": "4c0f2725-a0f2-4072-ef3e-19939971412b"
      },
      "outputs": [
        {
          "name": "stdout",
          "output_type": "stream",
          "text": [
            "[[     0      0      0      0   5918]\n",
            " [     0      0      0      1   7262]\n",
            " [     0      0      0      7  16980]\n",
            " [     0      0      0     14  42138]\n",
            " [     0      0      1     26 120554]]\n",
            "              precision    recall  f1-score   support\n",
            "\n",
            "           1       0.00      0.00      0.00      5918\n",
            "           2       0.00      0.00      0.00      7263\n",
            "           3       0.00      0.00      0.00     16987\n",
            "           4       0.29      0.00      0.00     42152\n",
            "           5       0.63      1.00      0.77    120581\n",
            "\n",
            "    accuracy                           0.63    192901\n",
            "   macro avg       0.18      0.20      0.15    192901\n",
            "weighted avg       0.45      0.63      0.48    192901\n",
            "\n"
          ]
        }
      ],
      "source": [
        "print(confusion_matrix(y_pos_test,y_pos_pred))\n",
        "print(classification_report(y_pos_test,y_pos_pred))"
      ]
    },
    {
      "cell_type": "markdown",
      "metadata": {
        "id": "wqcbPJ8CfG7n"
      },
      "source": [
        "Plot a visualization of the learning process or the learned information of the\n",
        "model"
      ]
    },
    {
      "cell_type": "code",
      "execution_count": null,
      "metadata": {
        "id": "M5OJiYRBfG7o",
        "outputId": "f5f3bfb5-d055-4e60-8efd-4aa9f72cf768"
      },
      "outputs": [
        {
          "data": {
            "text/plain": [
              "<matplotlib.legend.Legend at 0x7f27e1470d90>"
            ]
          },
          "execution_count": 180,
          "metadata": {},
          "output_type": "execute_result"
        },
        {
          "data": {
            "image/png": "[encoded data removed]",
            "text/plain": [
              "<Figure size 432x288 with 1 Axes>"
            ]
          },
          "metadata": {
            "needs_background": "light"
          },
          "output_type": "display_data"
        }
      ],
      "source": [
        "plt.title(\"Learning Curves for Multinomial NB Classifier on Noun Words\", fontsize=16)\n",
        "train_sizes, train_score, test_score, fit_times, _ = learning_curve(clf_pos_trained, X_pos_train, y_pos_train,cv=10, return_times=True)\n",
        "plt.xlabel(\"Training Data size\")\n",
        "plt.ylabel(\"Model accuracy\")\n",
        "plt.plot(train_sizes,np.mean(train_score,axis=1), label = 'Training Accuracy')\n",
        "plt.plot(train_sizes, np.mean(test_score, axis=1),label = 'Cross-validation score')\n",
        "plt.legend(loc='upper right')"
      ]
    },
    {
      "cell_type": "markdown",
      "source": [
        "> From the Learning Curve graph for MultinomialNB Classifier above trained on the dataset after pos tagging and considering only noun words, it can be observed that the curves for the Training Accuracy and Cross-Validation are completely apart from each other. The cross validation score is low and consistent across the training dataset with a value less than 0.62 while Training accuracy has risen massively after ~220000 training data from ~0.627 to ~0.628."
      ],
      "metadata": {
        "id": "7iF7QMW6hNpA"
      }
    },
    {
      "cell_type": "markdown",
      "metadata": {
        "id": "pUsFN7wDfG7o"
      },
      "source": [
        "**Analyze the Results**"
      ]
    },
    {
      "cell_type": "markdown",
      "metadata": {
        "id": "A_ePauE4fG7o"
      },
      "source": [
        "> Train results for MultinomialNB Classifier on Noun words:\n",
        "\n",
        "* The precision result is highest for target value 4 - 0.89 while lowest for  3 target value 0.49\n",
        "* The recall results are observed to be 1.00 and 0.01 for 5 and 4 target value while for all others it is 0.0\n",
        "* The accuracy for the train dataset is 63%.\n",
        "\n",
        "> Test results for MultinomialNB Classifier on Noun words:\n",
        "\n",
        "* The precision results for 4 and 5 target value are 0.29 and 0.63 respectively while for all others it is 0.0.\n",
        "* The recall results are observed to be 1.00 for 5 target value while for all others it is 0.0\n",
        "* The accuracy for the test dataset is 63%.\n",
        "\n",
        "> From the accuracy scores for both datasets train and test, it can be concluded that the model has a decent and consistent performance."
      ]
    },
    {
      "cell_type": "markdown",
      "metadata": {
        "id": "QsM1tZ2KfG7o"
      },
      "source": [
        "**3. Compare the performance with what you received in Q3 and Q4 with a statistical\n",
        "significance test. Discuss your findings.**"
      ]
    },
    {
      "cell_type": "code",
      "execution_count": null,
      "metadata": {
        "scrolled": true,
        "id": "SArpmuTffG7o",
        "outputId": "6d6661b8-7199-41a7-d8f3-9d34f40211a7"
      },
      "outputs": [
        {
          "name": "stdout",
          "output_type": "stream",
          "text": [
            "Defaulting to user installation because normal site-packages is not writeable\n",
            "Requirement already satisfied: mlxtend in /users/grad/meghnak/.local/lib/python3.7/site-packages (0.20.0)\n",
            "Requirement already satisfied: scipy>=1.2.1 in /local/pkg/python/root-python-3.7/lib/python3.7/site-packages (from mlxtend) (1.3.2)\n",
            "Requirement already satisfied: numpy>=1.16.2 in /local/pkg/python/root-python-3.7/lib/python3.7/site-packages (from mlxtend) (1.18.1)\n",
            "Requirement already satisfied: joblib>=0.13.2 in /local/pkg/python/root-python-3.7/lib/python3.7/site-packages (from mlxtend) (0.14.1)\n",
            "Requirement already satisfied: scikit-learn>=1.0.2 in /users/grad/meghnak/.local/lib/python3.7/site-packages (from mlxtend) (1.0.2)\n",
            "Requirement already satisfied: matplotlib>=3.0.0 in /local/pkg/python/root-python-3.7/lib/python3.7/site-packages (from mlxtend) (3.1.1)\n",
            "Requirement already satisfied: setuptools in /local/pkg/python/root-python-3.7/lib/python3.7/site-packages (from mlxtend) (45.1.0.post20200127)\n",
            "Requirement already satisfied: pandas>=0.24.2 in /local/pkg/python/root-python-3.7/lib/python3.7/site-packages (from mlxtend) (1.0.0)\n",
            "Requirement already satisfied: threadpoolctl>=2.0.0 in /users/grad/meghnak/.local/lib/python3.7/site-packages (from scikit-learn>=1.0.2->mlxtend) (3.1.0)\n",
            "Requirement already satisfied: cycler>=0.10 in /local/pkg/python/root-python-3.7/lib/python3.7/site-packages (from matplotlib>=3.0.0->mlxtend) (0.10.0)\n",
            "Requirement already satisfied: kiwisolver>=1.0.1 in /local/pkg/python/root-python-3.7/lib/python3.7/site-packages (from matplotlib>=3.0.0->mlxtend) (1.1.0)\n",
            "Requirement already satisfied: pyparsing!=2.0.4,!=2.1.2,!=2.1.6,>=2.0.1 in /local/pkg/python/root-python-3.7/lib/python3.7/site-packages (from matplotlib>=3.0.0->mlxtend) (2.4.6)\n",
            "Requirement already satisfied: python-dateutil>=2.1 in /local/pkg/python/root-python-3.7/lib/python3.7/site-packages (from matplotlib>=3.0.0->mlxtend) (2.8.1)\n",
            "Requirement already satisfied: pytz>=2017.2 in /local/pkg/python/root-python-3.7/lib/python3.7/site-packages (from pandas>=0.24.2->mlxtend) (2019.3)\n",
            "Requirement already satisfied: six in /local/pkg/python/root-python-3.7/lib/python3.7/site-packages (from cycler>=0.10->matplotlib>=3.0.0->mlxtend) (1.14.0)\n",
            "Note: you may need to restart the kernel to use updated packages.\n"
          ]
        }
      ],
      "source": [
        "%pip install mlxtend"
      ]
    },
    {
      "cell_type": "code",
      "execution_count": null,
      "metadata": {
        "id": "j-DGje8MfG7o"
      },
      "outputs": [],
      "source": [
        "import mlxtend"
      ]
    },
    {
      "cell_type": "code",
      "execution_count": null,
      "metadata": {
        "id": "Ybmb2kNjfG7o",
        "outputId": "52789d25-7626-49ba-cf3b-ae55b9f955fe"
      },
      "outputs": [
        {
          "name": "stdout",
          "output_type": "stream",
          "text": [
            "t statistic: nan\n",
            "p value: nan\n"
          ]
        },
        {
          "name": "stderr",
          "output_type": "stream",
          "text": [
            "/users/grad/meghnak/.local/lib/python3.7/site-packages/mlxtend/evaluate/ttest.py:126: RuntimeWarning: invalid value encountered in double_scalars\n",
            "  t_stat = numerator / denominator\n"
          ]
        }
      ],
      "source": [
        "# Code Reference: http://rasbt.github.io/mlxtend/user_guide/evaluate/paired_ttest_resampled/ [18]\n",
        "from mlxtend.evaluate import paired_ttest_resampled\n",
        "t,p = paired_ttest_resampled(estimator1=clf_trained,estimator2=clf_pos_trained, X=X_test, y=y_test, random_seed = 1)\n",
        "print('t statistic: %.3f' % t)\n",
        "print('p value: %.3f' % p)"
      ]
    },
    {
      "cell_type": "markdown",
      "metadata": {
        "id": "39f11Z8cfG7p"
      },
      "source": [
        "Calculating the cross validate score for the models that are trained on different datasets <a href='https://www.projectpro.io/recipes/compare-sklearn-classification-algorithms-in-python#mcetoc_1g1oehhmkb'>[19]</a>"
      ]
    },
    {
      "cell_type": "code",
      "execution_count": null,
      "metadata": {
        "id": "1hl7ljARfG7p"
      },
      "outputs": [],
      "source": [
        "from sklearn import model_selection\n",
        "results = []\n",
        "kfold = model_selection.KFold(n_splits=10)\n",
        "cv_results = model_selection.cross_val_score(clf_trained, X_train, y_train, cv=kfold, scoring='accuracy')\n",
        "results.append(cv_results)\n",
        "cv_results_pos = model_selection.cross_val_score(clf_pos_trained, X_pos_train, y_pos_train, cv=kfold, scoring='accuracy')\n",
        "results.append(cv_results_pos)"
      ]
    },
    {
      "cell_type": "code",
      "execution_count": null,
      "metadata": {
        "id": "JhKBHHbFfG7p",
        "outputId": "bc08ac6e-831f-47e6-c53f-72eebaa665b3"
      },
      "outputs": [
        {
          "name": "stdout",
          "output_type": "stream",
          "text": [
            "0.625795414782079\n",
            "0.6258148546545534\n"
          ]
        }
      ],
      "source": [
        "print(np.median(results[0]))\n",
        "print(np.median(results[1]))"
      ]
    },
    {
      "cell_type": "markdown",
      "source": [
        "> Observation\n",
        "\n",
        "* After calculating the cross_val_score for both the models it is observed that the median score value for model trained with all the review data is less than that of median score value for model trained with data after pos tagging and considering only nouns.\n",
        "\n",
        "* The median cross_val_score for clf_trained model is 0.625795\n",
        "* The median cross_val_score for cls_pos_trained model is 0.625814\n"
      ],
      "metadata": {
        "id": "IYAo8tIBhw8C"
      }
    },
    {
      "cell_type": "code",
      "execution_count": null,
      "metadata": {
        "id": "CtFd7P-UfG7p",
        "outputId": "550c96a7-532a-416d-89ee-e4e738ea3f9f"
      },
      "outputs": [
        {
          "data": {
            "image/png": "[encoded data removed]",
            "text/plain": [
              "<Figure size 720x720 with 1 Axes>"
            ]
          },
          "metadata": {
            "needs_background": "light"
          },
          "output_type": "display_data"
        }
      ],
      "source": [
        "fig = plt.figure(figsize=(10,10))\n",
        "fig.suptitle('Compare model with two different dataset')\n",
        "ax = fig.add_subplot(111)\n",
        "plt.boxplot(results)\n",
        "ax.set_xticklabels(['Without POS','With POS'])\n",
        "plt.show()"
      ]
    },
    {
      "cell_type": "markdown",
      "source": [
        "> Observation\n",
        "> * From the boxplot for the both the models above it can be seen that the median for model with POS is slighly higher than that of without POS."
      ],
      "metadata": {
        "id": "2buFUQHvijlr"
      }
    },
    {
      "cell_type": "markdown",
      "source": [
        "### References\n",
        "\n",
        "[1] Kaggle.com. 2022. Amazon Book Review 1 Million Sample. [online] Available at: <https://www.kaggle.com/datasets/parvezmrobin/amazon-book-review-1m-sample> [Accessed 24 July 2022].\n",
        "\n",
        "[2] Maksym Taranukhin, “CSCI 4146/6409 Process of Data Science Tutorial 2.” Summer Term, Dalhousie University, [online document], 2022. [Accessed 22 July 2022]\n",
        "\n",
        "[3] P. and Foley, L., 2022. Python remove stop words from pandas dataframe. [online] Stack Overflow. Available at: <https://stackoverflow.com/a/43407993/12146592> [Accessed 24 July 2022].\n",
        "\n",
        "[4] Kaggle.com. 2022. Amazon reviews analysis. [online] Available at: <https://www.kaggle.com/code/thrillanalysis/amazon-reviews-analysis/notebook> [Accessed 24 July 2022].\n",
        "\n",
        "[5] C., saoji, s., Beasley, J. and Pardhan, A., 2022. Count most frequent 100 words from sentences in Dataframe Pandas. [online] Stack Overflow. Available at: <https://stackoverflow.com/a/29903102/12146592> [Accessed 24 July 2022].\n",
        "\n",
        "[6] P. and Gunda, R., 2022. Pandas get frequency of item occurrences in a column as percentage. [online] Stack Overflow. Available at: <https://stackoverflow.com/a/50558594/12146592> [Accessed 24 July 2022].\n",
        "\n",
        "[7] P. and Foley, L., 2022. Python remove stop words from pandas dataframe. [online] Stack Overflow. Available at: <https://stackoverflow.com/a/43407993/12146592> [Accessed 24 July 2022].\n",
        "\n",
        "[8] Maksym Taranukhin, “CSCI 4146/6409 Process of Data Science Tutorial 11.” Summer Term, Dalhousie University, [online document], 2022. [Accessed 22 July 2022]\n",
        "\n",
        "[9] GitHub. 2022. Sentiment-Analysis---Amazon-review-dataset/4.BOW_lemmatization at master · girishkuniyal/Sentiment-Analysis---Amazon-review-dataset. [online] Available at: <https://github.com/girishkuniyal/Sentiment-Analysis---Amazon-review-dataset/tree/master/4.BOW_lemmatization> [Accessed 24 July 2022].\n",
        "\n",
        "[10] Medium. 2022. Fundamentals of Bag Of Words and TF-IDF. [online] Available at: <https://medium.com/analytics-vidhya/fundamentals-of-bag-of-words-and-tf-idf-9846d301ff22> [Accessed 24 July 2022].\n",
        "\n",
        "[11] Meghna Kumar and Vatsal Yadav, “CSCI 4146/6409 Process of Data Science Assignment 2.” Summer Term, Dalhousie University, [online document], 2022. [Accessed 22 July 2022]\n",
        "\n",
        "[12] Analytics Vidhya. 2022. Evaluation of Classification Model - Analytics Vidhya. [online] Available at: <https://www.analyticsvidhya.com/blog/2021/12/evaluation-of-classification-model/> [Accessed 24 July 2022].\n",
        "\n",
        "[13] scikit-learn. 2022. sklearn.naive_bayes.MultinomialNB. [online] Available at: <https://scikit-learn.org/stable/modules/generated/sklearn.naive_bayes.MultinomialNB.html> [Accessed 24 July 2022].\n",
        "\n",
        "[14] Brownlee, J., 2022. Overfitting and Underfitting With Machine Learning Algorithms. [online] Machine Learning Mastery. Available at: <https://machinelearningmastery.com/overfitting-and-underfitting-with-machine-learning-algorithms> [Accessed 24 July 2022].\n",
        "\n",
        "[15] W. and Jones, H., 2022. What does the learning curve in classification decision tree mean?. [online] Stack Overflow. Available at: <https://stackoverflow.com/a/67014482> [Accessed 24 July 2022].\n",
        "\n",
        "[16] H. and Curt, I., 2022. How to apply pos_tag_sents() to pandas dataframe efficiently. [online] Stack Overflow. Available at: <https://stackoverflow.com/a/42081746> [Accessed 24 July 2022].\n",
        "\n",
        "[17] H., Kramer, C. and Rahman, H., 2022. How to extract nouns using NLTK pos_tag()?. [online] Stack Overflow. Available at: <https://stackoverflow.com/a/24410428> [Accessed 24 July 2022].\n",
        "\n",
        "[18] Raschka, S., 2022. paired_ttest_resample: Resampled paired *t* test - mlxtend. [online] Rasbt.github.io. Available at: <http://rasbt.github.io/mlxtend/user_guide/evaluate/paired_ttest_resampled/> [Accessed 24 July 2022].\n",
        "\n",
        "[19] ProjectPro. 2022. How to compare sklearn classification algorithms in Python? -. [online] Available at: <https://www.projectpro.io/recipes/compare-sklearn-classification-algorithms-in-python#mcetoc_1g1oehhmkb> [Accessed 24 July 2022]."
      ],
      "metadata": {
        "id": "53XhQg0yvfHR"
      }
    }
  ],
  "metadata": {
    "colab": {
      "collapsed_sections": [],
      "name": "A3_meghna_kumar_vatsal_yadav.ipynb",
      "provenance": []
    },
    "kernelspec": {
      "display_name": "Python 3",
      "language": "python",
      "name": "python3"
    },
    "language_info": {
      "codemirror_mode": {
        "name": "ipython",
        "version": 3
      },
      "file_extension": ".py",
      "mimetype": "text/x-python",
      "name": "python",
      "nbconvert_exporter": "python",
      "pygments_lexer": "ipython3",
      "version": "3.7.6"
    }
  },
  "nbformat": 4,
  "nbformat_minor": 0
}